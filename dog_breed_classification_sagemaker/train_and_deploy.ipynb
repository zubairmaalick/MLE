{
 "cells": [
  {
   "cell_type": "markdown",
   "metadata": {
    "tags": []
   },
   "source": [
    "# Dog Breed Image Classification using AWS SageMaker\n",
    "\n",
    "\n",
    "- In this project we will use pytorch pretrained model Resnet50 to classify different dog breeds.\n",
    "- We will use the dataset openly available at https://s3-us-west-1.amazonaws.com/udacity-aind/dog-project/dogImages.zip\n",
    "- We will also use hyperparameter tuning and extract the best hyperparameters for the model. \n",
    "- in the end we also make use to aws debugger and profilor to track the model training\n",
    "- endpoint will be deployed and will be used to predictions. \n"
   ]
  },
  {
   "cell_type": "code",
   "execution_count": 4,
   "metadata": {
    "scrolled": true,
    "tags": []
   },
   "outputs": [],
   "source": [
    "# install sagemaker debug package\n",
    "#!pip install smdebug"
   ]
  },
  {
   "cell_type": "markdown",
   "metadata": {
    "tags": []
   },
   "source": [
    "Import important packages"
   ]
  },
  {
   "cell_type": "code",
   "execution_count": 6,
   "metadata": {
    "tags": []
   },
   "outputs": [
    {
     "name": "stdout",
     "output_type": "stream",
     "text": [
      "sagemaker.config INFO - Not applying SDK defaults from location: /etc/xdg/sagemaker/config.yaml\n",
      "sagemaker.config INFO - Not applying SDK defaults from location: /root/.config/sagemaker/config.yaml\n",
      "[2024-07-22 09:32:48.268 sagemaker-data-scienc-ml-t3-medium-ccb588b5efaf671be41927273f0c:17 INFO utils.py:28] RULE_JOB_STOP_SIGNAL_FILENAME: None\n"
     ]
    },
    {
     "data": {
      "text/plain": [
       "'sagemaker-us-east-1-283573335284'"
      ]
     },
     "execution_count": 6,
     "metadata": {},
     "output_type": "execute_result"
    }
   ],
   "source": [
    "import sagemaker\n",
    "import boto3\n",
    "from sagemaker.session import Session\n",
    "from sagemaker import get_execution_role\n",
    "from sagemaker.tuner import CategoricalParameter, ContinuousParameter, HyperparameterTuner, IntegerParameter\n",
    "from sagemaker.pytorch import PyTorch, PyTorchModel\n",
    "from sagemaker.predictor import Predictor\n",
    "from sagemaker.debugger import Rule, rule_configs, ProfilerRule, DebuggerHookConfig, CollectionConfig, ProfilerConfig, FrameworkProfile\n",
    "from smdebug.trials import create_trial\n",
    "from smdebug.core.modes import ModeKeys\n",
    "\n",
    "role = get_execution_role()\n",
    "sagemaker_session = sagemaker.Session()\n",
    "bucket = sagemaker_session.default_bucket()\n",
    "bucket"
   ]
  },
  {
   "cell_type": "markdown",
   "metadata": {},
   "source": [
    "## Dataset\n",
    "The dataset consist of different dog breed images (133 difference breeds) and already grouped in test, train and validation datasets. \n"
   ]
  },
  {
   "cell_type": "markdown",
   "metadata": {},
   "source": [
    "Download the dataset from udacity bucket"
   ]
  },
  {
   "cell_type": "code",
   "execution_count": 7,
   "metadata": {
    "tags": []
   },
   "outputs": [
    {
     "name": "stdout",
     "output_type": "stream",
     "text": [
      "--2024-07-22 09:33:05--  https://s3-us-west-1.amazonaws.com/udacity-aind/dog-project/dogImages.zip\n",
      "Resolving s3-us-west-1.amazonaws.com (s3-us-west-1.amazonaws.com)... 52.219.192.64, 52.219.121.56, 52.219.194.136, ...\n",
      "Connecting to s3-us-west-1.amazonaws.com (s3-us-west-1.amazonaws.com)|52.219.192.64|:443... connected.\n",
      "HTTP request sent, awaiting response... 200 OK\n",
      "Length: 1132023110 (1.1G) [application/zip]\n",
      "Saving to: ‘dogImages.zip’\n",
      "\n",
      "dogImages.zip       100%[===================>]   1.05G  33.8MB/s    in 42s     \n",
      "\n",
      "2024-07-22 09:33:50 (25.5 MB/s) - ‘dogImages.zip’ saved [1132023110/1132023110]\n",
      "\n"
     ]
    }
   ],
   "source": [
    "# Command to download and unzip data\n",
    "!wget https://s3-us-west-1.amazonaws.com/udacity-aind/dog-project/dogImages.zip\n",
    "!unzip dogImages.zip > /dev/null"
   ]
  },
  {
   "cell_type": "code",
   "execution_count": 4,
   "metadata": {
    "tags": []
   },
   "outputs": [],
   "source": [
    "# upload data to S3 bucket\n",
    "inputs = sagemaker_session.upload_data(path=\"dogImages\", bucket=bucket, key_prefix='imagesDogClassesSet')\n",
    "print(f'Input path (S3 file path): {inputs}')"
   ]
  },
  {
   "cell_type": "markdown",
   "metadata": {},
   "source": [
    "## Hyperparameter Tuning\n",
    "We will be using Adam optimizer, and we will tune three key hyperparameters: learning rate, batch size, and epochs. For implicity we have use few option for example we will run only for 2 and 6 epochs. it will save our computational cost but still serves our ultimate purpose i.e, to demonstrate hyperparameter tuning and choosing the best model out of it.  \n",
    "\n",
    "**Note:** We use the `hpo.py` script to perform hyperparameter tuning."
   ]
  },
  {
   "cell_type": "code",
   "execution_count": 5,
   "metadata": {
    "tags": []
   },
   "outputs": [],
   "source": [
    "hyperparameter_ranges = {\n",
    "    'lr': ContinuousParameter(0.001, 0.1),\n",
    "    'batch_size': CategoricalParameter([16 ,32, 64]),\n",
    "    'epochs': IntegerParameter(2, 6)\n",
    "}\n",
    "\n",
    "objective_metric_name = \"average test loss\"\n",
    "objective_type = \"Minimize\"\n",
    "metric_definitions = [{\"Name\": \"average test loss\", \"Regex\": \"Test set: Average loss: ([0-9\\\\.]+)\"}]"
   ]
  },
  {
   "cell_type": "code",
   "execution_count": null,
   "metadata": {},
   "outputs": [],
   "source": [
    "Here we are now creating an Pytorch estimator with entry point and other options. "
   ]
  },
  {
   "cell_type": "code",
   "execution_count": 6,
   "metadata": {
    "tags": []
   },
   "outputs": [
    {
     "name": "stdout",
     "output_type": "stream",
     "text": [
      "sagemaker.config INFO - Not applying SDK defaults from location: /etc/xdg/sagemaker/config.yaml\n",
      "sagemaker.config INFO - Not applying SDK defaults from location: /root/.config/sagemaker/config.yaml\n"
     ]
    }
   ],
   "source": [
    "estimator = PyTorch(entry_point = 'hpo.py',\n",
    "                    base_job_name = 'dog-breed-classification-hpo',\n",
    "                    role = role,\n",
    "                    instance_count = 1,\n",
    "                    instance_type = 'ml.m5.2xlarge', \n",
    "                    py_version = 'py36',\n",
    "                    framework_version = '1.8')\n",
    "\n",
    "tuner = HyperparameterTuner(estimator,\n",
    "                            objective_metric_name,\n",
    "                            hyperparameter_ranges,\n",
    "                            metric_definitions,\n",
    "                            max_jobs = 4,\n",
    "                            max_parallel_jobs = 1,\n",
    "                            objective_type = objective_type)"
   ]
  },
  {
   "cell_type": "code",
   "execution_count": 7,
   "metadata": {
    "tags": []
   },
   "outputs": [
    {
     "name": "stderr",
     "output_type": "stream",
     "text": [
      "No finished training job found associated with this estimator. Please make sure this estimator is only used for building workflow config\n",
      "No finished training job found associated with this estimator. Please make sure this estimator is only used for building workflow config\n"
     ]
    },
    {
     "name": "stdout",
     "output_type": "stream",
     "text": [
      "Using provided s3_resource\n",
      ".......................................................................................................................................................................................!\n"
     ]
    }
   ],
   "source": [
    "tuner.fit({'train': inputs}, wait=True)"
   ]
  },
  {
   "cell_type": "code",
   "execution_count": 8,
   "metadata": {},
   "outputs": [
    {
     "name": "stdout",
     "output_type": "stream",
     "text": [
      "\n",
      "2024-03-04 19:30:03 Starting - Found matching resource for reuse\n",
      "2024-03-04 19:30:03 Downloading - Downloading the training image\n",
      "2024-03-04 19:30:03 Training - Training image download completed. Training in progress.\n",
      "2024-03-04 19:30:03 Uploading - Uploading generated training model\n",
      "2024-03-04 19:30:03 Completed - Resource reused by training job: pytorch-training-240304-1920-003-8d00f41c\n"
     ]
    },
    {
     "data": {
      "text/plain": [
       "{'_tuning_objective_metric': '\"average test loss\"',\n",
       " 'batch_size': '\"32\"',\n",
       " 'epochs': '4',\n",
       " 'lr': '0.0017998026943613133',\n",
       " 'sagemaker_container_log_level': '20',\n",
       " 'sagemaker_estimator_class_name': '\"PyTorch\"',\n",
       " 'sagemaker_estimator_module': '\"sagemaker.pytorch.estimator\"',\n",
       " 'sagemaker_job_name': '\"dog-breed-classification-hpo-2024-03-04-19-20-46-461\"',\n",
       " 'sagemaker_program': '\"hpo.py\"',\n",
       " 'sagemaker_region': '\"us-east-1\"',\n",
       " 'sagemaker_submit_directory': '\"s3://sagemaker-us-east-1-283573335284/dog-breed-classification-hpo-2024-03-04-19-20-46-461/source/sourcedir.tar.gz\"'}"
      ]
     },
     "execution_count": 8,
     "metadata": {},
     "output_type": "execute_result"
    }
   ],
   "source": [
    "best_estimator = tuner.best_estimator()\n",
    "best_estimator.hyperparameters()"
   ]
  },
  {
   "cell_type": "code",
   "execution_count": 10,
   "metadata": {
    "tags": []
   },
   "outputs": [],
   "source": [
    "best_hyperparameters = {'batch_size': 32,\n",
    "                        'epochs': 4,\n",
    "                        'lr': 0.001799802694361313}"
   ]
  },
  {
   "cell_type": "markdown",
   "metadata": {},
   "source": [
    "## Model Profiling and Debugging\n",
    "Once we have identified the best hyperparameters for our image classification model, we will create a model and fine-tune it to improve its accuracy. By leveraging transfer learning and adjusting the last fully connected layer and adding our own layers, we will adapt the pre-trained model to our specific use case. By fine-tuning the model with the best hyperparameters, we aim to achieve optimal performance and accuracy for our dog breed classification task.\n",
    "\n",
    "**Note:** You will need to use the `train_model.py` script to perform model profiling and debugging."
   ]
  },
  {
   "cell_type": "code",
   "execution_count": 11,
   "metadata": {
    "tags": []
   },
   "outputs": [
    {
     "name": "stderr",
     "output_type": "stream",
     "text": [
      "Framework profiling will be deprecated from tensorflow 2.12 and pytorch 2.0 in sagemaker>=2.\n",
      "See: https://sagemaker.readthedocs.io/en/stable/v2.html for details.\n"
     ]
    }
   ],
   "source": [
    "rules = [\n",
    "    Rule.sagemaker(rule_configs.vanishing_gradient()),\n",
    "    Rule.sagemaker(rule_configs.poor_weight_initialization()),\n",
    "    ProfilerRule.sagemaker(rule_configs.ProfilerReport()),\n",
    "]\n",
    "\n",
    "profiler_config = ProfilerConfig(system_monitor_interval_millis=500, \n",
    "                                                       framework_profile_params = FrameworkProfile(num_steps=10))\n",
    "\n",
    "#collection_config = [CollectionConfig(name=\"CrossEntropyLoss_output_0\", \n",
    "#                                    parameters={\"include_regex\": \"CrossEntropyLoss_output_0\",\n",
    "#                                                            \"train.save_interval\": \"10\",\n",
    "#                                                            \"eval.save_interval\": \"1\"})]\n",
    "\n",
    "#debugger_config = DebuggerHookConfig(collection_configs = collection_config)"
   ]
  },
  {
   "cell_type": "code",
   "execution_count": 42,
   "metadata": {},
   "outputs": [],
   "source": [
    "from sagemaker.debugger import Rule, CollectionConfig, rule_configs\n",
    "class_imbalance_rule = Rule.sagemaker(base_config=rule_configs.class_imbalance(),\n",
    "                                    rule_parameters={\"labels_regex\": \"CrossEntropyLoss_input_1\"}\n",
    "                                    )\n",
    "loss_not_decreasing_rule = Rule.sagemaker(base_config=rule_configs.loss_not_decreasing(),\n",
    "                             rule_parameters={\"tensor_regex\": \"CrossEntropyLoss_output_0\",\n",
    "                                             \"mode\": \"TRAIN\"})\n",
    "dead_relu_rule = Rule.sagemaker(base_config=rule_configs.dead_relu(),\n",
    "                                rule_parameters={\"tensor_regex\": \"relu_output\"})\n",
    "\n",
    "collection_config = [CollectionConfig(name=\"CrossEntropyLoss_output_0\", \n",
    "                                    parameters={\"include_regex\": \"CrossEntropyLoss_output_0\",\n",
    "                                                            \"train.save_interval\": \"10\",\n",
    "                                                            \"eval.save_interval\": \"1\"})]\n",
    "\n",
    "rules = [\n",
    "    Rule.sagemaker(rule_configs.vanishing_gradient()),\n",
    "    Rule.sagemaker(rule_configs.overfit()),\n",
    "    Rule.sagemaker(rule_configs.overtraining()),\n",
    "    Rule.sagemaker(rule_configs.loss_not_decreasing()),\n",
    "    ProfilerRule.sagemaker(rule_configs.LowGPUUtilization()),\n",
    "    ProfilerRule.sagemaker(rule_configs.ProfilerReport()),\n",
    "]\n",
    "\n",
    "debugger_config = DebuggerHookConfig(collection_configs = collection_config)"
   ]
  },
  {
   "cell_type": "code",
   "execution_count": 43,
   "metadata": {
    "tags": []
   },
   "outputs": [
    {
     "name": "stdout",
     "output_type": "stream",
     "text": [
      "sagemaker.config INFO - Not applying SDK defaults from location: /etc/xdg/sagemaker/config.yaml\n",
      "sagemaker.config INFO - Not applying SDK defaults from location: /root/.config/sagemaker/config.yaml\n"
     ]
    }
   ],
   "source": [
    "estimator = PyTorch(entry_point = 'train_model.py',\n",
    "                    role = role,\n",
    "                    instance_count=1,\n",
    "                    instance_type = 'ml.m5.2xlarge',\n",
    "                    py_version = 'py36',\n",
    "                    framework_version = '1.6',\n",
    "                    hyperparameters = best_hyperparameters,\n",
    "                    profiler_config = profiler_config, \n",
    "                    debugger_hook_config = debugger_config, \n",
    "                    rules = rules ) "
   ]
  },
  {
   "cell_type": "code",
   "execution_count": 44,
   "metadata": {
    "tags": []
   },
   "outputs": [
    {
     "name": "stderr",
     "output_type": "stream",
     "text": [
      "INFO:sagemaker.image_uris:image_uri is not presented, retrieving image_uri based on instance_type, framework etc.\n",
      "INFO:sagemaker.image_uris:Defaulting to the only supported framework/algorithm version: latest.\n",
      "INFO:sagemaker.image_uris:Ignoring unnecessary instance type: None.\n",
      "INFO:sagemaker.image_uris:Defaulting to the only supported framework/algorithm version: latest.\n",
      "INFO:sagemaker.image_uris:Ignoring unnecessary instance type: None.\n",
      "INFO:sagemaker.image_uris:Defaulting to the only supported framework/algorithm version: latest.\n",
      "INFO:sagemaker.image_uris:Ignoring unnecessary instance type: None.\n",
      "INFO:sagemaker.image_uris:Defaulting to the only supported framework/algorithm version: latest.\n"
     ]
    },
    {
     "name": "stdout",
     "output_type": "stream",
     "text": [
      "Using provided s3_resource\n"
     ]
    },
    {
     "name": "stderr",
     "output_type": "stream",
     "text": [
      "INFO:sagemaker.image_uris:Ignoring unnecessary instance type: None.\n",
      "INFO:sagemaker.image_uris:Defaulting to the only supported framework/algorithm version: latest.\n",
      "INFO:sagemaker.image_uris:Ignoring unnecessary instance type: None.\n",
      "INFO:sagemaker.image_uris:Defaulting to the only supported framework/algorithm version: latest.\n",
      "INFO:sagemaker.image_uris:Ignoring unnecessary instance type: None.\n",
      "INFO:sagemaker.image_uris:image_uri is not presented, retrieving image_uri based on instance_type, framework etc.\n",
      "INFO:sagemaker:Creating training-job with name: pytorch-training-2024-03-04-21-11-55-516\n"
     ]
    },
    {
     "name": "stdout",
     "output_type": "stream",
     "text": [
      "2024-03-04 21:11:56 Starting - Starting the training job...\n",
      "2024-03-04 21:12:22 Starting - Preparing the instances for trainingVanishingGradient: InProgress\n",
      "Overfit: InProgress\n",
      "Overtraining: InProgress\n",
      "LossNotDecreasing: InProgress\n",
      "LowGPUUtilization: InProgress\n",
      "ProfilerReport: InProgress\n",
      "...\n",
      "2024-03-04 21:12:47 Downloading - Downloading input data......\n",
      "2024-03-04 21:13:51 Training - Training image download completed. Training in progress....\u001b[34mbash: cannot set terminal process group (-1): Inappropriate ioctl for device\u001b[0m\n",
      "\u001b[34mbash: no job control in this shell\u001b[0m\n",
      "\u001b[34m2024-03-04 21:14:10,800 sagemaker-training-toolkit INFO     Imported framework sagemaker_pytorch_container.training\u001b[0m\n",
      "\u001b[34m2024-03-04 21:14:10,803 sagemaker-training-toolkit INFO     No GPUs detected (normal if no gpus installed)\u001b[0m\n",
      "\u001b[34m2024-03-04 21:14:10,815 sagemaker_pytorch_container.training INFO     Block until all host DNS lookups succeed.\u001b[0m\n",
      "\u001b[34m2024-03-04 21:14:10,818 sagemaker_pytorch_container.training INFO     Invoking user training script.\u001b[0m\n",
      "\u001b[34m2024-03-04 21:14:10,993 sagemaker-training-toolkit INFO     No GPUs detected (normal if no gpus installed)\u001b[0m\n",
      "\u001b[34m2024-03-04 21:14:11,006 sagemaker-training-toolkit INFO     No GPUs detected (normal if no gpus installed)\u001b[0m\n",
      "\u001b[34m2024-03-04 21:14:11,019 sagemaker-training-toolkit INFO     No GPUs detected (normal if no gpus installed)\u001b[0m\n",
      "\u001b[34m2024-03-04 21:14:11,030 sagemaker-training-toolkit INFO     Invoking user script\u001b[0m\n",
      "\u001b[34mTraining Env:\u001b[0m\n",
      "\u001b[34m{\n",
      "    \"additional_framework_parameters\": {},\n",
      "    \"channel_input_dirs\": {\n",
      "        \"train\": \"/opt/ml/input/data/train\"\n",
      "    },\n",
      "    \"current_host\": \"algo-1\",\n",
      "    \"framework_module\": \"sagemaker_pytorch_container.training:main\",\n",
      "    \"hosts\": [\n",
      "        \"algo-1\"\n",
      "    ],\n",
      "    \"hyperparameters\": {\n",
      "        \"batch_size\": 32,\n",
      "        \"epochs\": 4,\n",
      "        \"lr\": 0.001799802694361313\n",
      "    },\n",
      "    \"input_config_dir\": \"/opt/ml/input/config\",\n",
      "    \"input_data_config\": {\n",
      "        \"train\": {\n",
      "            \"TrainingInputMode\": \"File\",\n",
      "            \"S3DistributionType\": \"FullyReplicated\",\n",
      "            \"RecordWrapperType\": \"None\"\n",
      "        }\n",
      "    },\n",
      "    \"input_dir\": \"/opt/ml/input\",\n",
      "    \"is_master\": true,\n",
      "    \"job_name\": \"pytorch-training-2024-03-04-21-11-55-516\",\n",
      "    \"log_level\": 20,\n",
      "    \"master_hostname\": \"algo-1\",\n",
      "    \"model_dir\": \"/opt/ml/model\",\n",
      "    \"module_dir\": \"s3://sagemaker-us-east-1-283573335284/pytorch-training-2024-03-04-21-11-55-516/source/sourcedir.tar.gz\",\n",
      "    \"module_name\": \"train_model\",\n",
      "    \"network_interface_name\": \"eth0\",\n",
      "    \"num_cpus\": 8,\n",
      "    \"num_gpus\": 0,\n",
      "    \"output_data_dir\": \"/opt/ml/output/data\",\n",
      "    \"output_dir\": \"/opt/ml/output\",\n",
      "    \"output_intermediate_dir\": \"/opt/ml/output/intermediate\",\n",
      "    \"resource_config\": {\n",
      "        \"current_host\": \"algo-1\",\n",
      "        \"current_instance_type\": \"ml.m5.2xlarge\",\n",
      "        \"current_group_name\": \"homogeneousCluster\",\n",
      "        \"hosts\": [\n",
      "            \"algo-1\"\n",
      "        ],\n",
      "        \"instance_groups\": [\n",
      "            {\n",
      "                \"instance_group_name\": \"homogeneousCluster\",\n",
      "                \"instance_type\": \"ml.m5.2xlarge\",\n",
      "                \"hosts\": [\n",
      "                    \"algo-1\"\n",
      "                ]\n",
      "            }\n",
      "        ],\n",
      "        \"network_interface_name\": \"eth0\"\n",
      "    },\n",
      "    \"user_entry_point\": \"train_model.py\"\u001b[0m\n",
      "\u001b[34m}\u001b[0m\n",
      "\u001b[34mEnvironment variables:\u001b[0m\n",
      "\u001b[34mSM_HOSTS=[\"algo-1\"]\u001b[0m\n",
      "\u001b[34mSM_NETWORK_INTERFACE_NAME=eth0\u001b[0m\n",
      "\u001b[34mSM_HPS={\"batch_size\":32,\"epochs\":4,\"lr\":0.001799802694361313}\u001b[0m\n",
      "\u001b[34mSM_USER_ENTRY_POINT=train_model.py\u001b[0m\n",
      "\u001b[34mSM_FRAMEWORK_PARAMS={}\u001b[0m\n",
      "\u001b[34mSM_RESOURCE_CONFIG={\"current_group_name\":\"homogeneousCluster\",\"current_host\":\"algo-1\",\"current_instance_type\":\"ml.m5.2xlarge\",\"hosts\":[\"algo-1\"],\"instance_groups\":[{\"hosts\":[\"algo-1\"],\"instance_group_name\":\"homogeneousCluster\",\"instance_type\":\"ml.m5.2xlarge\"}],\"network_interface_name\":\"eth0\"}\u001b[0m\n",
      "\u001b[34mSM_INPUT_DATA_CONFIG={\"train\":{\"RecordWrapperType\":\"None\",\"S3DistributionType\":\"FullyReplicated\",\"TrainingInputMode\":\"File\"}}\u001b[0m\n",
      "\u001b[34mSM_OUTPUT_DATA_DIR=/opt/ml/output/data\u001b[0m\n",
      "\u001b[34mSM_CHANNELS=[\"train\"]\u001b[0m\n",
      "\u001b[34mSM_CURRENT_HOST=algo-1\u001b[0m\n",
      "\u001b[34mSM_MODULE_NAME=train_model\u001b[0m\n",
      "\u001b[34mSM_LOG_LEVEL=20\u001b[0m\n",
      "\u001b[34mSM_FRAMEWORK_MODULE=sagemaker_pytorch_container.training:main\u001b[0m\n",
      "\u001b[34mSM_INPUT_DIR=/opt/ml/input\u001b[0m\n",
      "\u001b[34mSM_INPUT_CONFIG_DIR=/opt/ml/input/config\u001b[0m\n",
      "\u001b[34mSM_OUTPUT_DIR=/opt/ml/output\u001b[0m\n",
      "\u001b[34mSM_NUM_CPUS=8\u001b[0m\n",
      "\u001b[34mSM_NUM_GPUS=0\u001b[0m\n",
      "\u001b[34mSM_MODEL_DIR=/opt/ml/model\u001b[0m\n",
      "\u001b[34mSM_MODULE_DIR=s3://sagemaker-us-east-1-283573335284/pytorch-training-2024-03-04-21-11-55-516/source/sourcedir.tar.gz\u001b[0m\n",
      "\u001b[34mSM_TRAINING_ENV={\"additional_framework_parameters\":{},\"channel_input_dirs\":{\"train\":\"/opt/ml/input/data/train\"},\"current_host\":\"algo-1\",\"framework_module\":\"sagemaker_pytorch_container.training:main\",\"hosts\":[\"algo-1\"],\"hyperparameters\":{\"batch_size\":32,\"epochs\":4,\"lr\":0.001799802694361313},\"input_config_dir\":\"/opt/ml/input/config\",\"input_data_config\":{\"train\":{\"RecordWrapperType\":\"None\",\"S3DistributionType\":\"FullyReplicated\",\"TrainingInputMode\":\"File\"}},\"input_dir\":\"/opt/ml/input\",\"is_master\":true,\"job_name\":\"pytorch-training-2024-03-04-21-11-55-516\",\"log_level\":20,\"master_hostname\":\"algo-1\",\"model_dir\":\"/opt/ml/model\",\"module_dir\":\"s3://sagemaker-us-east-1-283573335284/pytorch-training-2024-03-04-21-11-55-516/source/sourcedir.tar.gz\",\"module_name\":\"train_model\",\"network_interface_name\":\"eth0\",\"num_cpus\":8,\"num_gpus\":0,\"output_data_dir\":\"/opt/ml/output/data\",\"output_dir\":\"/opt/ml/output\",\"output_intermediate_dir\":\"/opt/ml/output/intermediate\",\"resource_config\":{\"current_group_name\":\"homogeneousCluster\",\"current_host\":\"algo-1\",\"current_instance_type\":\"ml.m5.2xlarge\",\"hosts\":[\"algo-1\"],\"instance_groups\":[{\"hosts\":[\"algo-1\"],\"instance_group_name\":\"homogeneousCluster\",\"instance_type\":\"ml.m5.2xlarge\"}],\"network_interface_name\":\"eth0\"},\"user_entry_point\":\"train_model.py\"}\u001b[0m\n",
      "\u001b[34mSM_USER_ARGS=[\"--batch_size\",\"32\",\"--epochs\",\"4\",\"--lr\",\"0.001799802694361313\"]\u001b[0m\n",
      "\u001b[34mSM_OUTPUT_INTERMEDIATE_DIR=/opt/ml/output/intermediate\u001b[0m\n",
      "\u001b[34mSM_CHANNEL_TRAIN=/opt/ml/input/data/train\u001b[0m\n",
      "\u001b[34mSM_HP_BATCH_SIZE=32\u001b[0m\n",
      "\u001b[34mSM_HP_EPOCHS=4\u001b[0m\n",
      "\u001b[34mSM_HP_LR=0.001799802694361313\u001b[0m\n",
      "\u001b[34mPYTHONPATH=/opt/ml/code:/opt/conda/bin:/opt/conda/lib/python36.zip:/opt/conda/lib/python3.6:/opt/conda/lib/python3.6/lib-dynload:/opt/conda/lib/python3.6/site-packages\u001b[0m\n",
      "\u001b[34mInvoking script with the following command:\u001b[0m\n",
      "\u001b[34m/opt/conda/bin/python3.6 train_model.py --batch_size 32 --epochs 4 --lr 0.001799802694361313\u001b[0m\n",
      "\u001b[34m[2024-03-04 21:14:11.703 algo-1:27 INFO utils.py:27] RULE_JOB_STOP_SIGNAL_FILENAME: None\u001b[0m\n",
      "\u001b[34m[2024-03-04 21:14:11.901 algo-1:27 INFO profiler_config_parser.py:102] Using config at /opt/ml/input/config/profilerconfig.json.\u001b[0m\n",
      "\u001b[34m[2024-03-04 21:14:14.109 algo-1:27 INFO json_config.py:91] Creating hook from json_config at /opt/ml/input/config/debughookconfig.json.\u001b[0m\n",
      "\u001b[34m[2024-03-04 21:14:14.110 algo-1:27 INFO hook.py:199] tensorboard_dir has not been set for the hook. SMDebug will not be exporting tensorboard summaries.\u001b[0m\n",
      "\u001b[34m[2024-03-04 21:14:14.111 algo-1:27 INFO hook.py:253] Saving to /opt/ml/output/tensors\u001b[0m\n",
      "\u001b[34m[2024-03-04 21:14:14.112 algo-1:27 INFO state_store.py:77] The checkpoint config file /opt/ml/input/config/checkpointconfig.json does not exist.\u001b[0m\n",
      "\u001b[34m[2024-03-04 21:14:14.136 algo-1:27 INFO hook.py:584] name:conv1.weight count_params:9408\u001b[0m\n",
      "\u001b[34m[2024-03-04 21:14:14.136 algo-1:27 INFO hook.py:584] name:bn1.weight count_params:64\u001b[0m\n",
      "\u001b[34m[2024-03-04 21:14:14.136 algo-1:27 INFO hook.py:584] name:bn1.bias count_params:64\u001b[0m\n",
      "\u001b[34m[2024-03-04 21:14:14.137 algo-1:27 INFO hook.py:584] name:layer1.0.conv1.weight count_params:4096\u001b[0m\n",
      "\u001b[34m[2024-03-04 21:14:14.137 algo-1:27 INFO hook.py:584] name:layer1.0.bn1.weight count_params:64\u001b[0m\n",
      "\u001b[34m[2024-03-04 21:14:14.137 algo-1:27 INFO hook.py:584] name:layer1.0.bn1.bias count_params:64\u001b[0m\n",
      "\u001b[34m[2024-03-04 21:14:14.137 algo-1:27 INFO hook.py:584] name:layer1.0.conv2.weight count_params:36864\u001b[0m\n",
      "\u001b[34m[2024-03-04 21:14:14.138 algo-1:27 INFO hook.py:584] name:layer1.0.bn2.weight count_params:64\u001b[0m\n",
      "\u001b[34m[2024-03-04 21:14:14.138 algo-1:27 INFO hook.py:584] name:layer1.0.bn2.bias count_params:64\u001b[0m\n",
      "\u001b[34m[2024-03-04 21:14:14.138 algo-1:27 INFO hook.py:584] name:layer1.0.conv3.weight count_params:16384\u001b[0m\n",
      "\u001b[34m[2024-03-04 21:14:14.138 algo-1:27 INFO hook.py:584] name:layer1.0.bn3.weight count_params:256\u001b[0m\n",
      "\u001b[34m[2024-03-04 21:14:14.139 algo-1:27 INFO hook.py:584] name:layer1.0.bn3.bias count_params:256\u001b[0m\n",
      "\u001b[34m[2024-03-04 21:14:14.139 algo-1:27 INFO hook.py:584] name:layer1.0.downsample.0.weight count_params:16384\u001b[0m\n",
      "\u001b[34m[2024-03-04 21:14:14.139 algo-1:27 INFO hook.py:584] name:layer1.0.downsample.1.weight count_params:256\u001b[0m\n",
      "\u001b[34m[2024-03-04 21:14:14.140 algo-1:27 INFO hook.py:584] name:layer1.0.downsample.1.bias count_params:256\u001b[0m\n",
      "\u001b[34m[2024-03-04 21:14:14.140 algo-1:27 INFO hook.py:584] name:layer1.1.conv1.weight count_params:16384\u001b[0m\n",
      "\u001b[34m[2024-03-04 21:14:14.140 algo-1:27 INFO hook.py:584] name:layer1.1.bn1.weight count_params:64\u001b[0m\n",
      "\u001b[34m[2024-03-04 21:14:14.140 algo-1:27 INFO hook.py:584] name:layer1.1.bn1.bias count_params:64\u001b[0m\n",
      "\u001b[34m[2024-03-04 21:14:14.141 algo-1:27 INFO hook.py:584] name:layer1.1.conv2.weight count_params:36864\u001b[0m\n",
      "\u001b[34m[2024-03-04 21:14:14.141 algo-1:27 INFO hook.py:584] name:layer1.1.bn2.weight count_params:64\u001b[0m\n",
      "\u001b[34m[2024-03-04 21:14:14.141 algo-1:27 INFO hook.py:584] name:layer1.1.bn2.bias count_params:64\u001b[0m\n",
      "\u001b[34m[2024-03-04 21:14:14.142 algo-1:27 INFO hook.py:584] name:layer1.1.conv3.weight count_params:16384\u001b[0m\n",
      "\u001b[34m[2024-03-04 21:14:14.142 algo-1:27 INFO hook.py:584] name:layer1.1.bn3.weight count_params:256\u001b[0m\n",
      "\u001b[34m[2024-03-04 21:14:14.142 algo-1:27 INFO hook.py:584] name:layer1.1.bn3.bias count_params:256\u001b[0m\n",
      "\u001b[34m[2024-03-04 21:14:14.142 algo-1:27 INFO hook.py:584] name:layer1.2.conv1.weight count_params:16384\u001b[0m\n",
      "\u001b[34m[2024-03-04 21:14:14.143 algo-1:27 INFO hook.py:584] name:layer1.2.bn1.weight count_params:64\u001b[0m\n",
      "\u001b[34m[2024-03-04 21:14:14.143 algo-1:27 INFO hook.py:584] name:layer1.2.bn1.bias count_params:64\u001b[0m\n",
      "\u001b[34m[2024-03-04 21:14:14.143 algo-1:27 INFO hook.py:584] name:layer1.2.conv2.weight count_params:36864\u001b[0m\n",
      "\u001b[34m[2024-03-04 21:14:14.144 algo-1:27 INFO hook.py:584] name:layer1.2.bn2.weight count_params:64\u001b[0m\n",
      "\u001b[34m[2024-03-04 21:14:14.144 algo-1:27 INFO hook.py:584] name:layer1.2.bn2.bias count_params:64\u001b[0m\n",
      "\u001b[34m[2024-03-04 21:14:14.144 algo-1:27 INFO hook.py:584] name:layer1.2.conv3.weight count_params:16384\u001b[0m\n",
      "\u001b[34m[2024-03-04 21:14:14.144 algo-1:27 INFO hook.py:584] name:layer1.2.bn3.weight count_params:256\u001b[0m\n",
      "\u001b[34m[2024-03-04 21:14:14.145 algo-1:27 INFO hook.py:584] name:layer1.2.bn3.bias count_params:256\u001b[0m\n",
      "\u001b[34m[2024-03-04 21:14:14.145 algo-1:27 INFO hook.py:584] name:layer2.0.conv1.weight count_params:32768\u001b[0m\n",
      "\u001b[34m[2024-03-04 21:14:14.145 algo-1:27 INFO hook.py:584] name:layer2.0.bn1.weight count_params:128\u001b[0m\n",
      "\u001b[34m[2024-03-04 21:14:14.146 algo-1:27 INFO hook.py:584] name:layer2.0.bn1.bias count_params:128\u001b[0m\n",
      "\u001b[34m[2024-03-04 21:14:14.146 algo-1:27 INFO hook.py:584] name:layer2.0.conv2.weight count_params:147456\u001b[0m\n",
      "\u001b[34m[2024-03-04 21:14:14.146 algo-1:27 INFO hook.py:584] name:layer2.0.bn2.weight count_params:128\u001b[0m\n",
      "\u001b[34m[2024-03-04 21:14:14.146 algo-1:27 INFO hook.py:584] name:layer2.0.bn2.bias count_params:128\u001b[0m\n",
      "\u001b[34m[2024-03-04 21:14:14.147 algo-1:27 INFO hook.py:584] name:layer2.0.conv3.weight count_params:65536\u001b[0m\n",
      "\u001b[34m[2024-03-04 21:14:14.147 algo-1:27 INFO hook.py:584] name:layer2.0.bn3.weight count_params:512\u001b[0m\n",
      "\u001b[34m[2024-03-04 21:14:14.147 algo-1:27 INFO hook.py:584] name:layer2.0.bn3.bias count_params:512\u001b[0m\n",
      "\u001b[34m[2024-03-04 21:14:14.148 algo-1:27 INFO hook.py:584] name:layer2.0.downsample.0.weight count_params:131072\u001b[0m\n",
      "\u001b[34m[2024-03-04 21:14:14.148 algo-1:27 INFO hook.py:584] name:layer2.0.downsample.1.weight count_params:512\u001b[0m\n",
      "\u001b[34m[2024-03-04 21:14:14.148 algo-1:27 INFO hook.py:584] name:layer2.0.downsample.1.bias count_params:512\u001b[0m\n",
      "\u001b[34m[2024-03-04 21:14:14.148 algo-1:27 INFO hook.py:584] name:layer2.1.conv1.weight count_params:65536\u001b[0m\n",
      "\u001b[34m[2024-03-04 21:14:14.149 algo-1:27 INFO hook.py:584] name:layer2.1.bn1.weight count_params:128\u001b[0m\n",
      "\u001b[34m[2024-03-04 21:14:14.149 algo-1:27 INFO hook.py:584] name:layer2.1.bn1.bias count_params:128\u001b[0m\n",
      "\u001b[34m[2024-03-04 21:14:14.149 algo-1:27 INFO hook.py:584] name:layer2.1.conv2.weight count_params:147456\u001b[0m\n",
      "\u001b[34m[2024-03-04 21:14:14.150 algo-1:27 INFO hook.py:584] name:layer2.1.bn2.weight count_params:128\u001b[0m\n",
      "\u001b[34m[2024-03-04 21:14:14.150 algo-1:27 INFO hook.py:584] name:layer2.1.bn2.bias count_params:128\u001b[0m\n",
      "\u001b[34m[2024-03-04 21:14:14.150 algo-1:27 INFO hook.py:584] name:layer2.1.conv3.weight count_params:65536\u001b[0m\n",
      "\u001b[34m[2024-03-04 21:14:14.150 algo-1:27 INFO hook.py:584] name:layer2.1.bn3.weight count_params:512\u001b[0m\n",
      "\u001b[34m[2024-03-04 21:14:14.151 algo-1:27 INFO hook.py:584] name:layer2.1.bn3.bias count_params:512\u001b[0m\n",
      "\u001b[34m[2024-03-04 21:14:14.151 algo-1:27 INFO hook.py:584] name:layer2.2.conv1.weight count_params:65536\u001b[0m\n",
      "\u001b[34m[2024-03-04 21:14:14.151 algo-1:27 INFO hook.py:584] name:layer2.2.bn1.weight count_params:128\u001b[0m\n",
      "\u001b[34m[2024-03-04 21:14:14.151 algo-1:27 INFO hook.py:584] name:layer2.2.bn1.bias count_params:128\u001b[0m\n",
      "\u001b[34m[2024-03-04 21:14:14.152 algo-1:27 INFO hook.py:584] name:layer2.2.conv2.weight count_params:147456\u001b[0m\n",
      "\u001b[34m[2024-03-04 21:14:14.152 algo-1:27 INFO hook.py:584] name:layer2.2.bn2.weight count_params:128\u001b[0m\n",
      "\u001b[34m[2024-03-04 21:14:14.152 algo-1:27 INFO hook.py:584] name:layer2.2.bn2.bias count_params:128\u001b[0m\n",
      "\u001b[34m[2024-03-04 21:14:14.153 algo-1:27 INFO hook.py:584] name:layer2.2.conv3.weight count_params:65536\u001b[0m\n",
      "\u001b[34m[2024-03-04 21:14:14.153 algo-1:27 INFO hook.py:584] name:layer2.2.bn3.weight count_params:512\u001b[0m\n",
      "\u001b[34m[2024-03-04 21:14:14.153 algo-1:27 INFO hook.py:584] name:layer2.2.bn3.bias count_params:512\u001b[0m\n",
      "\u001b[34m[2024-03-04 21:14:14.153 algo-1:27 INFO hook.py:584] name:layer2.3.conv1.weight count_params:65536\u001b[0m\n",
      "\u001b[34m[2024-03-04 21:14:14.154 algo-1:27 INFO hook.py:584] name:layer2.3.bn1.weight count_params:128\u001b[0m\n",
      "\u001b[34m[2024-03-04 21:14:14.154 algo-1:27 INFO hook.py:584] name:layer2.3.bn1.bias count_params:128\u001b[0m\n",
      "\u001b[34m[2024-03-04 21:14:14.154 algo-1:27 INFO hook.py:584] name:layer2.3.conv2.weight count_params:147456\u001b[0m\n",
      "\u001b[34m[2024-03-04 21:14:14.155 algo-1:27 INFO hook.py:584] name:layer2.3.bn2.weight count_params:128\u001b[0m\n",
      "\u001b[34m[2024-03-04 21:14:14.155 algo-1:27 INFO hook.py:584] name:layer2.3.bn2.bias count_params:128\u001b[0m\n",
      "\u001b[34m[2024-03-04 21:14:14.155 algo-1:27 INFO hook.py:584] name:layer2.3.conv3.weight count_params:65536\u001b[0m\n",
      "\u001b[34m[2024-03-04 21:14:14.155 algo-1:27 INFO hook.py:584] name:layer2.3.bn3.weight count_params:512\u001b[0m\n",
      "\u001b[34m[2024-03-04 21:14:14.156 algo-1:27 INFO hook.py:584] name:layer2.3.bn3.bias count_params:512\u001b[0m\n",
      "\u001b[34m[2024-03-04 21:14:14.156 algo-1:27 INFO hook.py:584] name:layer3.0.conv1.weight count_params:131072\u001b[0m\n",
      "\u001b[34m[2024-03-04 21:14:14.156 algo-1:27 INFO hook.py:584] name:layer3.0.bn1.weight count_params:256\u001b[0m\n",
      "\u001b[34m[2024-03-04 21:14:14.157 algo-1:27 INFO hook.py:584] name:layer3.0.bn1.bias count_params:256\u001b[0m\n",
      "\u001b[34m[2024-03-04 21:14:14.157 algo-1:27 INFO hook.py:584] name:layer3.0.conv2.weight count_params:589824\u001b[0m\n",
      "\u001b[34m[2024-03-04 21:14:14.157 algo-1:27 INFO hook.py:584] name:layer3.0.bn2.weight count_params:256\u001b[0m\n",
      "\u001b[34m[2024-03-04 21:14:14.157 algo-1:27 INFO hook.py:584] name:layer3.0.bn2.bias count_params:256\u001b[0m\n",
      "\u001b[34m[2024-03-04 21:14:14.158 algo-1:27 INFO hook.py:584] name:layer3.0.conv3.weight count_params:262144\u001b[0m\n",
      "\u001b[34m[2024-03-04 21:14:14.158 algo-1:27 INFO hook.py:584] name:layer3.0.bn3.weight count_params:1024\u001b[0m\n",
      "\u001b[34m[2024-03-04 21:14:14.158 algo-1:27 INFO hook.py:584] name:layer3.0.bn3.bias count_params:1024\u001b[0m\n",
      "\u001b[34m[2024-03-04 21:14:14.159 algo-1:27 INFO hook.py:584] name:layer3.0.downsample.0.weight count_params:524288\u001b[0m\n",
      "\u001b[34m[2024-03-04 21:14:14.159 algo-1:27 INFO hook.py:584] name:layer3.0.downsample.1.weight count_params:1024\u001b[0m\n",
      "\u001b[34m[2024-03-04 21:14:14.159 algo-1:27 INFO hook.py:584] name:layer3.0.downsample.1.bias count_params:1024\u001b[0m\n",
      "\u001b[34m[2024-03-04 21:14:14.159 algo-1:27 INFO hook.py:584] name:layer3.1.conv1.weight count_params:262144\u001b[0m\n",
      "\u001b[34m[2024-03-04 21:14:14.160 algo-1:27 INFO hook.py:584] name:layer3.1.bn1.weight count_params:256\u001b[0m\n",
      "\u001b[34m[2024-03-04 21:14:14.160 algo-1:27 INFO hook.py:584] name:layer3.1.bn1.bias count_params:256\u001b[0m\n",
      "\u001b[34m[2024-03-04 21:14:14.160 algo-1:27 INFO hook.py:584] name:layer3.1.conv2.weight count_params:589824\u001b[0m\n",
      "\u001b[34m[2024-03-04 21:14:14.161 algo-1:27 INFO hook.py:584] name:layer3.1.bn2.weight count_params:256\u001b[0m\n",
      "\u001b[34m[2024-03-04 21:14:14.161 algo-1:27 INFO hook.py:584] name:layer3.1.bn2.bias count_params:256\u001b[0m\n",
      "\u001b[34m[2024-03-04 21:14:14.161 algo-1:27 INFO hook.py:584] name:layer3.1.conv3.weight count_params:262144\u001b[0m\n",
      "\u001b[34m[2024-03-04 21:14:14.161 algo-1:27 INFO hook.py:584] name:layer3.1.bn3.weight count_params:1024\u001b[0m\n",
      "\u001b[34m[2024-03-04 21:14:14.162 algo-1:27 INFO hook.py:584] name:layer3.1.bn3.bias count_params:1024\u001b[0m\n",
      "\u001b[34m[2024-03-04 21:14:14.162 algo-1:27 INFO hook.py:584] name:layer3.2.conv1.weight count_params:262144\u001b[0m\n",
      "\u001b[34m[2024-03-04 21:14:14.162 algo-1:27 INFO hook.py:584] name:layer3.2.bn1.weight count_params:256\u001b[0m\n",
      "\u001b[34m[2024-03-04 21:14:14.163 algo-1:27 INFO hook.py:584] name:layer3.2.bn1.bias count_params:256\u001b[0m\n",
      "\u001b[34m[2024-03-04 21:14:14.163 algo-1:27 INFO hook.py:584] name:layer3.2.conv2.weight count_params:589824\u001b[0m\n",
      "\u001b[34m[2024-03-04 21:14:14.163 algo-1:27 INFO hook.py:584] name:layer3.2.bn2.weight count_params:256\u001b[0m\n",
      "\u001b[34m[2024-03-04 21:14:14.163 algo-1:27 INFO hook.py:584] name:layer3.2.bn2.bias count_params:256\u001b[0m\n",
      "\u001b[34m[2024-03-04 21:14:14.164 algo-1:27 INFO hook.py:584] name:layer3.2.conv3.weight count_params:262144\u001b[0m\n",
      "\u001b[34m[2024-03-04 21:14:14.164 algo-1:27 INFO hook.py:584] name:layer3.2.bn3.weight count_params:1024\u001b[0m\n",
      "\u001b[34m[2024-03-04 21:14:14.164 algo-1:27 INFO hook.py:584] name:layer3.2.bn3.bias count_params:1024\u001b[0m\n",
      "\u001b[34m[2024-03-04 21:14:14.165 algo-1:27 INFO hook.py:584] name:layer3.3.conv1.weight count_params:262144\u001b[0m\n",
      "\u001b[34m[2024-03-04 21:14:14.165 algo-1:27 INFO hook.py:584] name:layer3.3.bn1.weight count_params:256\u001b[0m\n",
      "\u001b[34m[2024-03-04 21:14:14.165 algo-1:27 INFO hook.py:584] name:layer3.3.bn1.bias count_params:256\u001b[0m\n",
      "\u001b[34m[2024-03-04 21:14:14.165 algo-1:27 INFO hook.py:584] name:layer3.3.conv2.weight count_params:589824\u001b[0m\n",
      "\u001b[34m[2024-03-04 21:14:14.166 algo-1:27 INFO hook.py:584] name:layer3.3.bn2.weight count_params:256\u001b[0m\n",
      "\u001b[34m[2024-03-04 21:14:14.166 algo-1:27 INFO hook.py:584] name:layer3.3.bn2.bias count_params:256\u001b[0m\n",
      "\u001b[34m[2024-03-04 21:14:14.166 algo-1:27 INFO hook.py:584] name:layer3.3.conv3.weight count_params:262144\u001b[0m\n",
      "\u001b[34m[2024-03-04 21:14:14.166 algo-1:27 INFO hook.py:584] name:layer3.3.bn3.weight count_params:1024\u001b[0m\n",
      "\u001b[34m[2024-03-04 21:14:14.167 algo-1:27 INFO hook.py:584] name:layer3.3.bn3.bias count_params:1024\u001b[0m\n",
      "\u001b[34m[2024-03-04 21:14:14.167 algo-1:27 INFO hook.py:584] name:layer3.4.conv1.weight count_params:262144\u001b[0m\n",
      "\u001b[34m[2024-03-04 21:14:14.167 algo-1:27 INFO hook.py:584] name:layer3.4.bn1.weight count_params:256\u001b[0m\n",
      "\u001b[34m[2024-03-04 21:14:14.168 algo-1:27 INFO hook.py:584] name:layer3.4.bn1.bias count_params:256\u001b[0m\n",
      "\u001b[34m[2024-03-04 21:14:14.168 algo-1:27 INFO hook.py:584] name:layer3.4.conv2.weight count_params:589824\u001b[0m\n",
      "\u001b[34m[2024-03-04 21:14:14.168 algo-1:27 INFO hook.py:584] name:layer3.4.bn2.weight count_params:256\u001b[0m\n",
      "\u001b[34m[2024-03-04 21:14:14.168 algo-1:27 INFO hook.py:584] name:layer3.4.bn2.bias count_params:256\u001b[0m\n",
      "\u001b[34m[2024-03-04 21:14:14.169 algo-1:27 INFO hook.py:584] name:layer3.4.conv3.weight count_params:262144\u001b[0m\n",
      "\u001b[34m[2024-03-04 21:14:14.169 algo-1:27 INFO hook.py:584] name:layer3.4.bn3.weight count_params:1024\u001b[0m\n",
      "\u001b[34m[2024-03-04 21:14:14.169 algo-1:27 INFO hook.py:584] name:layer3.4.bn3.bias count_params:1024\u001b[0m\n",
      "\u001b[34m[2024-03-04 21:14:14.170 algo-1:27 INFO hook.py:584] name:layer3.5.conv1.weight count_params:262144\u001b[0m\n",
      "\u001b[34m[2024-03-04 21:14:14.170 algo-1:27 INFO hook.py:584] name:layer3.5.bn1.weight count_params:256\u001b[0m\n",
      "\u001b[34m[2024-03-04 21:14:14.170 algo-1:27 INFO hook.py:584] name:layer3.5.bn1.bias count_params:256\u001b[0m\n",
      "\u001b[34m[2024-03-04 21:14:14.170 algo-1:27 INFO hook.py:584] name:layer3.5.conv2.weight count_params:589824\u001b[0m\n",
      "\u001b[34m[2024-03-04 21:14:14.171 algo-1:27 INFO hook.py:584] name:layer3.5.bn2.weight count_params:256\u001b[0m\n",
      "\u001b[34m[2024-03-04 21:14:14.171 algo-1:27 INFO hook.py:584] name:layer3.5.bn2.bias count_params:256\u001b[0m\n",
      "\u001b[34m[2024-03-04 21:14:14.171 algo-1:27 INFO hook.py:584] name:layer3.5.conv3.weight count_params:262144\u001b[0m\n",
      "\u001b[34m[2024-03-04 21:14:14.172 algo-1:27 INFO hook.py:584] name:layer3.5.bn3.weight count_params:1024\u001b[0m\n",
      "\u001b[34m[2024-03-04 21:14:14.172 algo-1:27 INFO hook.py:584] name:layer3.5.bn3.bias count_params:1024\u001b[0m\n",
      "\u001b[34m[2024-03-04 21:14:14.172 algo-1:27 INFO hook.py:584] name:layer4.0.conv1.weight count_params:524288\u001b[0m\n",
      "\u001b[34m[2024-03-04 21:14:14.172 algo-1:27 INFO hook.py:584] name:layer4.0.bn1.weight count_params:512\u001b[0m\n",
      "\u001b[34m[2024-03-04 21:14:14.173 algo-1:27 INFO hook.py:584] name:layer4.0.bn1.bias count_params:512\u001b[0m\n",
      "\u001b[34m[2024-03-04 21:14:14.173 algo-1:27 INFO hook.py:584] name:layer4.0.conv2.weight count_params:2359296\u001b[0m\n",
      "\u001b[34m[2024-03-04 21:14:14.173 algo-1:27 INFO hook.py:584] name:layer4.0.bn2.weight count_params:512\u001b[0m\n",
      "\u001b[34m[2024-03-04 21:14:14.174 algo-1:27 INFO hook.py:584] name:layer4.0.bn2.bias count_params:512\u001b[0m\n",
      "\u001b[34m[2024-03-04 21:14:14.174 algo-1:27 INFO hook.py:584] name:layer4.0.conv3.weight count_params:1048576\u001b[0m\n",
      "\u001b[34m[2024-03-04 21:14:14.174 algo-1:27 INFO hook.py:584] name:layer4.0.bn3.weight count_params:2048\u001b[0m\n",
      "\u001b[34m[2024-03-04 21:14:14.174 algo-1:27 INFO hook.py:584] name:layer4.0.bn3.bias count_params:2048\u001b[0m\n",
      "\u001b[34m[2024-03-04 21:14:14.175 algo-1:27 INFO hook.py:584] name:layer4.0.downsample.0.weight count_params:2097152\u001b[0m\n",
      "\u001b[34m[2024-03-04 21:14:14.175 algo-1:27 INFO hook.py:584] name:layer4.0.downsample.1.weight count_params:2048\u001b[0m\n",
      "\u001b[34m[2024-03-04 21:14:14.175 algo-1:27 INFO hook.py:584] name:layer4.0.downsample.1.bias count_params:2048\u001b[0m\n",
      "\u001b[34m[2024-03-04 21:14:14.176 algo-1:27 INFO hook.py:584] name:layer4.1.conv1.weight count_params:1048576\u001b[0m\n",
      "\u001b[34m[2024-03-04 21:14:14.176 algo-1:27 INFO hook.py:584] name:layer4.1.bn1.weight count_params:512\u001b[0m\n",
      "\u001b[34m[2024-03-04 21:14:14.176 algo-1:27 INFO hook.py:584] name:layer4.1.bn1.bias count_params:512\u001b[0m\n",
      "\u001b[34m[2024-03-04 21:14:14.176 algo-1:27 INFO hook.py:584] name:layer4.1.conv2.weight count_params:2359296\u001b[0m\n",
      "\u001b[34m[2024-03-04 21:14:14.177 algo-1:27 INFO hook.py:584] name:layer4.1.bn2.weight count_params:512\u001b[0m\n",
      "\u001b[34m[2024-03-04 21:14:14.177 algo-1:27 INFO hook.py:584] name:layer4.1.bn2.bias count_params:512\u001b[0m\n",
      "\u001b[34m[2024-03-04 21:14:14.177 algo-1:27 INFO hook.py:584] name:layer4.1.conv3.weight count_params:1048576\u001b[0m\n",
      "\u001b[34m[2024-03-04 21:14:14.178 algo-1:27 INFO hook.py:584] name:layer4.1.bn3.weight count_params:2048\u001b[0m\n",
      "\u001b[34m[2024-03-04 21:14:14.178 algo-1:27 INFO hook.py:584] name:layer4.1.bn3.bias count_params:2048\u001b[0m\n",
      "\u001b[34m[2024-03-04 21:14:14.178 algo-1:27 INFO hook.py:584] name:layer4.2.conv1.weight count_params:1048576\u001b[0m\n",
      "\u001b[34m[2024-03-04 21:14:14.178 algo-1:27 INFO hook.py:584] name:layer4.2.bn1.weight count_params:512\u001b[0m\n",
      "\u001b[34m[2024-03-04 21:14:14.179 algo-1:27 INFO hook.py:584] name:layer4.2.bn1.bias count_params:512\u001b[0m\n",
      "\u001b[34m[2024-03-04 21:14:14.179 algo-1:27 INFO hook.py:584] name:layer4.2.conv2.weight count_params:2359296\u001b[0m\n",
      "\u001b[34m[2024-03-04 21:14:14.179 algo-1:27 INFO hook.py:584] name:layer4.2.bn2.weight count_params:512\u001b[0m\n",
      "\u001b[34m[2024-03-04 21:14:14.180 algo-1:27 INFO hook.py:584] name:layer4.2.bn2.bias count_params:512\u001b[0m\n",
      "\u001b[34m[2024-03-04 21:14:14.180 algo-1:27 INFO hook.py:584] name:layer4.2.conv3.weight count_params:1048576\u001b[0m\n",
      "\u001b[34m[2024-03-04 21:14:14.180 algo-1:27 INFO hook.py:584] name:layer4.2.bn3.weight count_params:2048\u001b[0m\n",
      "\u001b[34m[2024-03-04 21:14:14.180 algo-1:27 INFO hook.py:584] name:layer4.2.bn3.bias count_params:2048\u001b[0m\n",
      "\u001b[34m[2024-03-04 21:14:14.181 algo-1:27 INFO hook.py:584] name:fc.0.weight count_params:524288\u001b[0m\n",
      "\u001b[34m[2024-03-04 21:14:14.181 algo-1:27 INFO hook.py:584] name:fc.0.bias count_params:256\u001b[0m\n",
      "\u001b[34m[2024-03-04 21:14:14.181 algo-1:27 INFO hook.py:584] name:fc.2.weight count_params:32768\u001b[0m\n",
      "\u001b[34m[2024-03-04 21:14:14.181 algo-1:27 INFO hook.py:584] name:fc.2.bias count_params:128\u001b[0m\n",
      "\u001b[34m[2024-03-04 21:14:14.182 algo-1:27 INFO hook.py:584] name:fc.4.weight count_params:17024\u001b[0m\n",
      "\u001b[34m[2024-03-04 21:14:14.182 algo-1:27 INFO hook.py:584] name:fc.4.bias count_params:133\u001b[0m\n",
      "\u001b[34m[2024-03-04 21:14:14.182 algo-1:27 INFO hook.py:586] Total Trainable Params: 24082629\u001b[0m\n",
      "\u001b[34m[2024-03-04 21:14:14.887 algo-1:27 INFO hook.py:413] Monitoring the collections: gradients, CrossEntropyLoss_output_0, losses\u001b[0m\n",
      "\u001b[34m[2024-03-04 21:14:14.888 algo-1:27 INFO python_profiler.py:182] Dumping cProfile stats to /opt/ml/output/profiler/framework/pytorch/cprofile/27-algo-1/prestepzero-*-start-1709586851902214.0_train-0-stepstart-1709586854888608.8/python_stats.\u001b[0m\n",
      "\u001b[34m[2024-03-04 21:14:14.909 algo-1:27 INFO hook.py:476] Hook is writing from the hook with pid: 27\u001b[0m\n",
      "\u001b[34m[2024-03-04 21:14:17.058 algo-1:27 INFO python_profiler.py:182] Dumping cProfile stats to /opt/ml/output/profiler/framework/pytorch/cprofile/27-algo-1/train-0-stepstart-1709586854898912.2_train-0-forwardpassend-1709586857058463.2/python_stats.\u001b[0m\n",
      "\u001b[34m[2024-03-04 21:14:20.998 algo-1:27 INFO python_profiler.py:182] Dumping cProfile stats to /opt/ml/output/profiler/framework/pytorch/cprofile/27-algo-1/train-0-forwardpassend-1709586857061137.2_train-1-stepstart-1709586860997515.5/python_stats.\u001b[0m\n",
      "\u001b[34m[2024-03-04 21:14:50.616 algo-1:27 INFO python_profiler.py:182] Dumping cProfile stats to /opt/ml/output/profiler/framework/pytorch/cprofile/27-algo-1/train-1-stepstart-1709586861001268.8_train-1-forwardpassend-1709586890615645.2/python_stats.\u001b[0m\n",
      "\u001b[34m[2024-03-04 21:14:54.115 algo-1:27 INFO python_profiler.py:182] Dumping cProfile stats to /opt/ml/output/profiler/framework/pytorch/cprofile/27-algo-1/train-1-forwardpassend-1709586890618009.8_train-2-stepstart-1709586894114492.0/python_stats.\u001b[0m\n",
      "\u001b[34m[2024-03-04 21:15:23.473 algo-1:27 INFO python_profiler.py:182] Dumping cProfile stats to /opt/ml/output/profiler/framework/pytorch/cprofile/27-algo-1/train-2-stepstart-1709586894117390.0_train-2-forwardpassend-1709586923473205.0/python_stats.\u001b[0m\n",
      "\u001b[34m[2024-03-04 21:15:26.188 algo-1:27 INFO python_profiler.py:182] Dumping cProfile stats to /opt/ml/output/profiler/framework/pytorch/cprofile/27-algo-1/train-2-forwardpassend-1709586923474945.5_train-3-stepstart-1709586926187496.0/python_stats.\u001b[0m\n",
      "\u001b[34m[2024-03-04 21:15:55.303 algo-1:27 INFO python_profiler.py:182] Dumping cProfile stats to /opt/ml/output/profiler/framework/pytorch/cprofile/27-algo-1/train-3-stepstart-1709586926190485.2_train-3-forwardpassend-1709586955303106.0/python_stats.\u001b[0m\n",
      "\u001b[34m[2024-03-04 21:15:57.916 algo-1:27 INFO python_profiler.py:182] Dumping cProfile stats to /opt/ml/output/profiler/framework/pytorch/cprofile/27-algo-1/train-3-forwardpassend-1709586955304900.0_train-4-stepstart-1709586957915707.8/python_stats.\u001b[0m\n",
      "\u001b[34m[2024-03-04 21:16:27.101 algo-1:27 INFO python_profiler.py:182] Dumping cProfile stats to /opt/ml/output/profiler/framework/pytorch/cprofile/27-algo-1/train-4-stepstart-1709586957918253.8_train-4-forwardpassend-1709586987101027.0/python_stats.\u001b[0m\n",
      "\u001b[34m[2024-03-04 21:16:30.182 algo-1:27 INFO python_profiler.py:182] Dumping cProfile stats to /opt/ml/output/profiler/framework/pytorch/cprofile/27-algo-1/train-4-forwardpassend-1709586987102894.5_train-5-stepstart-1709586990181578.0/python_stats.\u001b[0m\n",
      "\u001b[34m[2024-03-04 21:16:59.117 algo-1:27 INFO python_profiler.py:182] Dumping cProfile stats to /opt/ml/output/profiler/framework/pytorch/cprofile/27-algo-1/train-5-stepstart-1709586990184464.2_train-5-forwardpassend-1709587019117467.5/python_stats.\u001b[0m\n",
      "\u001b[34m[2024-03-04 21:17:02.052 algo-1:27 INFO python_profiler.py:182] Dumping cProfile stats to /opt/ml/output/profiler/framework/pytorch/cprofile/27-algo-1/train-5-forwardpassend-1709587019119218.5_train-6-stepstart-1709587022052310.8/python_stats.\u001b[0m\n",
      "\u001b[34m[2024-03-04 21:17:31.157 algo-1:27 INFO python_profiler.py:182] Dumping cProfile stats to /opt/ml/output/profiler/framework/pytorch/cprofile/27-algo-1/train-6-stepstart-1709587022055294.8_train-6-forwardpassend-1709587051157185.8/python_stats.\u001b[0m\n",
      "\u001b[34m[2024-03-04 21:17:33.932 algo-1:27 INFO python_profiler.py:182] Dumping cProfile stats to /opt/ml/output/profiler/framework/pytorch/cprofile/27-algo-1/train-6-forwardpassend-1709587051158931.2_train-7-stepstart-1709587053932224.0/python_stats.\u001b[0m\n",
      "\u001b[34m[2024-03-04 21:18:03.202 algo-1:27 INFO python_profiler.py:182] Dumping cProfile stats to /opt/ml/output/profiler/framework/pytorch/cprofile/27-algo-1/train-7-stepstart-1709587053935208.0_train-7-forwardpassend-1709587083201984.5/python_stats.\u001b[0m\n",
      "\u001b[34m[2024-03-04 21:18:06.376 algo-1:27 INFO python_profiler.py:182] Dumping cProfile stats to /opt/ml/output/profiler/framework/pytorch/cprofile/27-algo-1/train-7-forwardpassend-1709587083203662.5_train-8-stepstart-1709587086376064.8/python_stats.\u001b[0m\n",
      "\u001b[34m[2024-03-04 21:18:35.295 algo-1:27 INFO python_profiler.py:182] Dumping cProfile stats to /opt/ml/output/profiler/framework/pytorch/cprofile/27-algo-1/train-8-stepstart-1709587086379199.5_train-8-forwardpassend-1709587115294694.2/python_stats.\u001b[0m\n",
      "\u001b[34m[2024-03-04 21:18:37.970 algo-1:27 INFO python_profiler.py:182] Dumping cProfile stats to /opt/ml/output/profiler/framework/pytorch/cprofile/27-algo-1/train-8-forwardpassend-1709587115296447.2_train-9-stepstart-1709587117969588.8/python_stats.\u001b[0m\n",
      "\u001b[34m[2024-03-04 21:19:06.871 algo-1:27 INFO python_profiler.py:182] Dumping cProfile stats to /opt/ml/output/profiler/framework/pytorch/cprofile/27-algo-1/train-9-stepstart-1709587117973016.8_train-9-forwardpassend-1709587146871234.8/python_stats.\u001b[0m\n",
      "\u001b[34m[2024-03-04 21:19:09.499 algo-1:27 INFO python_profiler.py:182] Dumping cProfile stats to /opt/ml/output/profiler/framework/pytorch/cprofile/27-algo-1/train-9-forwardpassend-1709587146873068.5_train-10-stepstart-1709587149498941.8/python_stats.\u001b[0m\n",
      "VanishingGradient: InProgress\n",
      "Overfit: InProgress\n",
      "Overtraining: IssuesFound\n",
      "LossNotDecreasing: InProgress\n",
      "\u001b[34mValidation set: Average accuracy: 59.76047904191617%\u001b[0m\n",
      "\u001b[34mValidation set: Average accuracy: 72.81437125748504%\u001b[0m\n",
      "\u001b[34mValidation set: Average accuracy: 74.25149700598801%\u001b[0m\n",
      "\u001b[34mValidation set: Average accuracy: 77.96407185628742%\u001b[0m\n",
      "\n",
      "2024-03-04 22:18:47 Uploading - Uploading generated training model\u001b[34mTest set: Average loss: 0.02398166490905878, Average accuracy: 76.07655502392345%\u001b[0m\n",
      "\u001b[34mSaving the model\u001b[0m\n",
      "\u001b[34mModel saved\u001b[0m\n",
      "\u001b[34mDownloading: \"https://download.pytorch.org/models/resnet50-19c8e357.pth\" to /root/.cache/torch/hub/checkpoints/resnet50-19c8e357.pth\u001b[0m\n",
      "\u001b[34m#015  0%|          | 0.00/97.8M [00:00<?, ?B/s]#015  8%|▊         | 7.77M/97.8M [00:00<00:01, 81.4MB/s]#015 16%|█▌        | 15.8M/97.8M [00:00<00:01, 82.2MB/s]#015 24%|██▍       | 23.9M/97.8M [00:00<00:00, 82.9MB/s]#015 33%|███▎      | 32.0M/97.8M [00:00<00:00, 83.5MB/s]#015 41%|████      | 40.1M/97.8M [00:00<00:00, 84.1MB/s]#015 49%|████▉     | 48.2M/97.8M [00:00<00:00, 84.4MB/s]#015 58%|█████▊    | 56.3M/97.8M [00:00<00:00, 84.5MB/s]#015 66%|██████▌   | 64.5M/97.8M [00:00<00:00, 84.7MB/s]#015 74%|███████▍  | 72.6M/97.8M [00:00<00:00, 84.8MB/s]#015 83%|████████▎ | 80.7M/97.8M [00:01<00:00, 85.0MB/s]#015 91%|█████████ | 88.9M/97.8M [00:01<00:00, 85.1MB/s]#015 99%|█████████▉| 97.0M/97.8M [00:01<00:00, 85.2MB/s]#015100%|██████████| 97.8M/97.8M [00:01<00:00, 84.6MB/s]\u001b[0m\n",
      "\u001b[34mINFO:__main__:Validation set: Average accuracy: 59.76047904191617%\u001b[0m\n",
      "\u001b[34mINFO:__main__:Validation set: Average accuracy: 72.81437125748504%\u001b[0m\n",
      "\u001b[34mINFO:__main__:Validation set: Average accuracy: 74.25149700598801%\u001b[0m\n",
      "\u001b[34mINFO:__main__:Validation set: Average accuracy: 77.96407185628742%\u001b[0m\n",
      "\u001b[34mINFO:__main__:Test set: Average loss: 0.02398166490905878, Average accuracy: 76.07655502392345%\u001b[0m\n",
      "\u001b[34mINFO:__main__:Saving the model\u001b[0m\n",
      "\u001b[34mINFO:__main__:Model saved\u001b[0m\n",
      "\u001b[34m2024-03-04 22:18:41,436 sagemaker-training-toolkit INFO     Reporting training SUCCESS\u001b[0m\n",
      "\n",
      "2024-03-04 22:19:16 Completed - Training job completed\n",
      "VanishingGradient: NoIssuesFound\n",
      "Overfit: NoIssuesFound\n",
      "Overtraining: IssuesFound\n",
      "LossNotDecreasing: NoIssuesFound\n",
      "LowGPUUtilization: NoIssuesFound\n",
      "ProfilerReport: IssuesFound\n",
      "Training seconds: 3975\n",
      "Billable seconds: 3975\n"
     ]
    }
   ],
   "source": [
    "estimator.fit({'train':inputs}, wait=True)"
   ]
  },
  {
   "cell_type": "code",
   "execution_count": 45,
   "metadata": {},
   "outputs": [
    {
     "name": "stdout",
     "output_type": "stream",
     "text": [
      "Jobname: pytorch-training-2024-03-04-21-11-55-516\n",
      "Client: <botocore.client.SageMaker object at 0x7f62ab4aa3e0>\n",
      "Description: {'TrainingJobName': 'pytorch-training-2024-03-04-21-11-55-516', 'TrainingJobArn': 'arn:aws:sagemaker:us-east-1:283573335284:training-job/pytorch-training-2024-03-04-21-11-55-516', 'ModelArtifacts': {'S3ModelArtifacts': 's3://sagemaker-us-east-1-283573335284/pytorch-training-2024-03-04-21-11-55-516/output/model.tar.gz'}, 'TrainingJobStatus': 'Completed', 'SecondaryStatus': 'Completed', 'HyperParameters': {'batch_size': '32', 'epochs': '4', 'lr': '0.001799802694361313', 'sagemaker_container_log_level': '20', 'sagemaker_job_name': '\"pytorch-training-2024-03-04-21-11-55-516\"', 'sagemaker_program': '\"train_model.py\"', 'sagemaker_region': '\"us-east-1\"', 'sagemaker_submit_directory': '\"s3://sagemaker-us-east-1-283573335284/pytorch-training-2024-03-04-21-11-55-516/source/sourcedir.tar.gz\"'}, 'AlgorithmSpecification': {'TrainingImage': '763104351884.dkr.ecr.us-east-1.amazonaws.com/pytorch-training:1.6-cpu-py36', 'TrainingInputMode': 'File', 'EnableSageMakerMetricsTimeSeries': True}, 'RoleArn': 'arn:aws:iam::283573335284:role/service-role/AmazonSageMaker-ExecutionRole-20231220T090131', 'InputDataConfig': [{'ChannelName': 'train', 'DataSource': {'S3DataSource': {'S3DataType': 'S3Prefix', 'S3Uri': 's3://sagemaker-us-east-1-283573335284/imagesDogClassesSet', 'S3DataDistributionType': 'FullyReplicated'}}, 'CompressionType': 'None', 'RecordWrapperType': 'None'}], 'OutputDataConfig': {'KmsKeyId': '', 'S3OutputPath': 's3://sagemaker-us-east-1-283573335284/', 'CompressionType': 'GZIP'}, 'ResourceConfig': {'InstanceType': 'ml.m5.2xlarge', 'InstanceCount': 1, 'VolumeSizeInGB': 30}, 'StoppingCondition': {'MaxRuntimeInSeconds': 86400}, 'CreationTime': datetime.datetime(2024, 3, 4, 21, 11, 56, 510000, tzinfo=tzlocal()), 'TrainingStartTime': datetime.datetime(2024, 3, 4, 21, 12, 46, 113000, tzinfo=tzlocal()), 'TrainingEndTime': datetime.datetime(2024, 3, 4, 22, 19, 1, 342000, tzinfo=tzlocal()), 'LastModifiedTime': datetime.datetime(2024, 3, 4, 22, 19, 16, 994000, tzinfo=tzlocal()), 'SecondaryStatusTransitions': [{'Status': 'Starting', 'StartTime': datetime.datetime(2024, 3, 4, 21, 11, 56, 510000, tzinfo=tzlocal()), 'EndTime': datetime.datetime(2024, 3, 4, 21, 12, 46, 113000, tzinfo=tzlocal()), 'StatusMessage': 'Preparing the instances for training'}, {'Status': 'Downloading', 'StartTime': datetime.datetime(2024, 3, 4, 21, 12, 46, 113000, tzinfo=tzlocal()), 'EndTime': datetime.datetime(2024, 3, 4, 21, 13, 51, 980000, tzinfo=tzlocal()), 'StatusMessage': 'Downloading the training image'}, {'Status': 'Training', 'StartTime': datetime.datetime(2024, 3, 4, 21, 13, 51, 980000, tzinfo=tzlocal()), 'EndTime': datetime.datetime(2024, 3, 4, 22, 18, 45, 808000, tzinfo=tzlocal()), 'StatusMessage': 'Training image download completed. Training in progress.'}, {'Status': 'Uploading', 'StartTime': datetime.datetime(2024, 3, 4, 22, 18, 45, 808000, tzinfo=tzlocal()), 'EndTime': datetime.datetime(2024, 3, 4, 22, 19, 1, 342000, tzinfo=tzlocal()), 'StatusMessage': 'Uploading generated training model'}, {'Status': 'Completed', 'StartTime': datetime.datetime(2024, 3, 4, 22, 19, 1, 342000, tzinfo=tzlocal()), 'EndTime': datetime.datetime(2024, 3, 4, 22, 19, 1, 342000, tzinfo=tzlocal()), 'StatusMessage': 'Training job completed'}], 'EnableNetworkIsolation': False, 'EnableInterContainerTrafficEncryption': False, 'EnableManagedSpotTraining': False, 'TrainingTimeInSeconds': 3975, 'BillableTimeInSeconds': 3975, 'DebugHookConfig': {'S3OutputPath': 's3://sagemaker-us-east-1-283573335284/', 'CollectionConfigurations': [{'CollectionName': 'losses', 'CollectionParameters': {'save_interval': '500'}}, {'CollectionName': 'gradients', 'CollectionParameters': {'save_interval': '500'}}, {'CollectionName': 'CrossEntropyLoss_output_0', 'CollectionParameters': {'eval.save_interval': '1', 'include_regex': 'CrossEntropyLoss_output_0', 'train.save_interval': '10'}}]}, 'DebugRuleConfigurations': [{'RuleConfigurationName': 'VanishingGradient', 'RuleEvaluatorImage': '503895931360.dkr.ecr.us-east-1.amazonaws.com/sagemaker-debugger-rules:latest', 'VolumeSizeInGB': 0, 'RuleParameters': {'rule_to_invoke': 'VanishingGradient'}}, {'RuleConfigurationName': 'Overfit', 'RuleEvaluatorImage': '503895931360.dkr.ecr.us-east-1.amazonaws.com/sagemaker-debugger-rules:latest', 'VolumeSizeInGB': 0, 'RuleParameters': {'rule_to_invoke': 'Overfit'}}, {'RuleConfigurationName': 'Overtraining', 'RuleEvaluatorImage': '503895931360.dkr.ecr.us-east-1.amazonaws.com/sagemaker-debugger-rules:latest', 'VolumeSizeInGB': 0, 'RuleParameters': {'rule_to_invoke': 'Overtraining'}}, {'RuleConfigurationName': 'LossNotDecreasing', 'RuleEvaluatorImage': '503895931360.dkr.ecr.us-east-1.amazonaws.com/sagemaker-debugger-rules:latest', 'VolumeSizeInGB': 0, 'RuleParameters': {'rule_to_invoke': 'LossNotDecreasing'}}], 'DebugRuleEvaluationStatuses': [{'RuleConfigurationName': 'VanishingGradient', 'RuleEvaluationJobArn': 'arn:aws:sagemaker:us-east-1:283573335284:processing-job/pytorch-training-2024-03-0-VanishingGradient-fdf365de', 'RuleEvaluationStatus': 'NoIssuesFound', 'LastModifiedTime': datetime.datetime(2024, 3, 4, 22, 19, 8, 90000, tzinfo=tzlocal())}, {'RuleConfigurationName': 'Overfit', 'RuleEvaluationJobArn': 'arn:aws:sagemaker:us-east-1:283573335284:processing-job/pytorch-training-2024-03-0-Overfit-7f95d6b0', 'RuleEvaluationStatus': 'NoIssuesFound', 'LastModifiedTime': datetime.datetime(2024, 3, 4, 22, 19, 8, 90000, tzinfo=tzlocal())}, {'RuleConfigurationName': 'Overtraining', 'RuleEvaluationJobArn': 'arn:aws:sagemaker:us-east-1:283573335284:processing-job/pytorch-training-2024-03-0-Overtraining-f0590460', 'RuleEvaluationStatus': 'IssuesFound', 'StatusDetails': 'RuleEvaluationConditionMet: Evaluation of the rule Overtraining at step 219 resulted in the condition being met\\n', 'LastModifiedTime': datetime.datetime(2024, 3, 4, 22, 19, 8, 90000, tzinfo=tzlocal())}, {'RuleConfigurationName': 'LossNotDecreasing', 'RuleEvaluationJobArn': 'arn:aws:sagemaker:us-east-1:283573335284:processing-job/pytorch-training-2024-03-0-LossNotDecreasing-5240d865', 'RuleEvaluationStatus': 'NoIssuesFound', 'LastModifiedTime': datetime.datetime(2024, 3, 4, 22, 19, 8, 90000, tzinfo=tzlocal())}], 'ProfilerConfig': {'S3OutputPath': 's3://sagemaker-us-east-1-283573335284/', 'ProfilingIntervalInMilliseconds': 500, 'ProfilingParameters': {'DataloaderProfilingConfig': '{\"StartStep\": 0, \"NumSteps\": 10, \"MetricsRegex\": \".*\", }', 'DetailedProfilingConfig': '{\"StartStep\": 0, \"NumSteps\": 10, }', 'FileOpenFailThreshold': '50', 'HorovodProfilingConfig': '{\"StartStep\": 0, \"NumSteps\": 10, }', 'LocalPath': '/opt/ml/output/profiler', 'PythonProfilingConfig': '{\"StartStep\": 0, \"NumSteps\": 10, \"ProfilerName\": \"cprofile\", \"cProfileTimer\": \"total_time\", }', 'RotateFileCloseIntervalInSeconds': '60', 'RotateMaxFileSizeInBytes': '10485760', 'SMDataParallelProfilingConfig': '{\"StartStep\": 0, \"NumSteps\": 10, }'}, 'DisableProfiler': False}, 'ProfilerRuleConfigurations': [{'RuleConfigurationName': 'LowGPUUtilization', 'RuleEvaluatorImage': '503895931360.dkr.ecr.us-east-1.amazonaws.com/sagemaker-debugger-rules:latest', 'VolumeSizeInGB': 0, 'RuleParameters': {'patience': '1000', 'rule_to_invoke': 'LowGPUUtilization', 'scan_interval_us': '60000000', 'threshold_p5': '10', 'threshold_p95': '70', 'window': '500'}}, {'RuleConfigurationName': 'ProfilerReport', 'RuleEvaluatorImage': '503895931360.dkr.ecr.us-east-1.amazonaws.com/sagemaker-debugger-rules:latest', 'VolumeSizeInGB': 0, 'RuleParameters': {'rule_to_invoke': 'ProfilerReport'}}], 'ProfilerRuleEvaluationStatuses': [{'RuleConfigurationName': 'LowGPUUtilization', 'RuleEvaluationJobArn': 'arn:aws:sagemaker:us-east-1:283573335284:processing-job/pytorch-training-2024-03-0-LowGPUUtilization-72c852bf', 'RuleEvaluationStatus': 'NoIssuesFound', 'LastModifiedTime': datetime.datetime(2024, 3, 4, 22, 19, 16, 990000, tzinfo=tzlocal())}, {'RuleConfigurationName': 'ProfilerReport', 'RuleEvaluationJobArn': 'arn:aws:sagemaker:us-east-1:283573335284:processing-job/pytorch-training-2024-03-0-ProfilerReport-8c6c02fe', 'RuleEvaluationStatus': 'IssuesFound', 'StatusDetails': 'RuleEvaluationConditionMet: Evaluation of the rule ProfilerReport at step 66 resulted in the condition being met\\n', 'LastModifiedTime': datetime.datetime(2024, 3, 4, 22, 19, 16, 990000, tzinfo=tzlocal())}], 'ProfilingStatus': 'Enabled', 'ResponseMetadata': {'RequestId': '64f386de-16e7-40c3-a975-ae774577964d', 'HTTPStatusCode': 200, 'HTTPHeaders': {'x-amzn-requestid': '64f386de-16e7-40c3-a975-ae774577964d', 'content-type': 'application/x-amz-json-1.1', 'content-length': '7345', 'date': 'Mon, 04 Mar 2024 22:20:28 GMT'}, 'RetryAttempts': 0}}\n"
     ]
    }
   ],
   "source": [
    "job_name = estimator.latest_training_job.name\n",
    "client = estimator.sagemaker_session.sagemaker_client\n",
    "description = client.describe_training_job(TrainingJobName=estimator.latest_training_job.name)\n",
    "\n",
    "print(f\"Jobname: {job_name}\")\n",
    "print(f\"Client: {client}\")\n",
    "print(f\"Description: {description}\")"
   ]
  },
  {
   "cell_type": "markdown",
   "metadata": {},
   "source": [
    "**TODO**: Is there some anomalous behaviour in your debugging output? If so, what is the error and how will you fix it?  \n",
    "\n",
    "There is no anomalous behavior in the debugging. All seems fine.\n",
    "\n",
    "**TODO**: If not, suppose there was an error. What would that error look like and how would you have fixed it?\n",
    "\n",
    "Might get error of compute capacity or nucket access. "
   ]
  },
  {
   "cell_type": "code",
   "execution_count": 46,
   "metadata": {},
   "outputs": [
    {
     "data": {
      "text/plain": [
       "'s3://sagemaker-us-east-1-283573335284/pytorch-training-2024-03-04-21-11-55-516/debug-output'"
      ]
     },
     "execution_count": 46,
     "metadata": {},
     "output_type": "execute_result"
    }
   ],
   "source": [
    "estimator.latest_job_debugger_artifacts_path()"
   ]
  },
  {
   "cell_type": "code",
   "execution_count": 47,
   "metadata": {},
   "outputs": [
    {
     "name": "stdout",
     "output_type": "stream",
     "text": [
      "[2024-03-04 22:20:37.960 sagemaker-data-scienc-ml-t3-medium-ccb588b5efaf671be41927273f0c:20 INFO s3_trial.py:42] Loading trial resnet_training_run at path s3://sagemaker-us-east-1-283573335284/pytorch-training-2024-03-04-21-11-55-516/debug-output\n"
     ]
    }
   ],
   "source": [
    "from smdebug.trials import create_trial\n",
    "trial = create_trial(path=estimator.latest_job_debugger_artifacts_path(), name='resnet_training_run')"
   ]
  },
  {
   "cell_type": "code",
   "execution_count": 48,
   "metadata": {},
   "outputs": [
    {
     "name": "stdout",
     "output_type": "stream",
     "text": [
      "[2024-03-04 22:20:46.432 sagemaker-data-scienc-ml-t3-medium-ccb588b5efaf671be41927273f0c:20 INFO trial.py:197] Training has ended, will refresh one final time in 1 sec.\n",
      "[2024-03-04 22:20:47.455 sagemaker-data-scienc-ml-t3-medium-ccb588b5efaf671be41927273f0c:20 INFO trial.py:210] Loaded all steps\n"
     ]
    },
    {
     "data": {
      "text/plain": [
       "{0: array(4.8616996, dtype=float32),\n",
       " 10: array(4.832733, dtype=float32),\n",
       " 20: array(4.858803, dtype=float32),\n",
       " 30: array(4.810945, dtype=float32),\n",
       " 40: array(4.6941533, dtype=float32),\n",
       " 50: array(4.2685547, dtype=float32),\n",
       " 60: array(4.0466504, dtype=float32),\n",
       " 70: array(3.9568288, dtype=float32),\n",
       " 80: array(3.648244, dtype=float32),\n",
       " 90: array(3.1328938, dtype=float32),\n",
       " 100: array(2.7584248, dtype=float32),\n",
       " 110: array(2.6741056, dtype=float32),\n",
       " 120: array(2.5565333, dtype=float32),\n",
       " 130: array(2.0646825, dtype=float32),\n",
       " 140: array(2.1105683, dtype=float32),\n",
       " 150: array(1.6616497, dtype=float32),\n",
       " 160: array(1.7053939, dtype=float32),\n",
       " 170: array(1.9351335, dtype=float32),\n",
       " 180: array(1.7338593, dtype=float32),\n",
       " 190: array(1.154192, dtype=float32),\n",
       " 200: array(1.5994971, dtype=float32),\n",
       " 210: array(1.651845, dtype=float32),\n",
       " 220: array(1.1660559, dtype=float32),\n",
       " 230: array(1.2858869, dtype=float32),\n",
       " 240: array(0.8281873, dtype=float32),\n",
       " 250: array(1.1194504, dtype=float32),\n",
       " 260: array(0.94654113, dtype=float32),\n",
       " 270: array(1.4883459, dtype=float32),\n",
       " 280: array(1.220891, dtype=float32),\n",
       " 290: array(1.7288097, dtype=float32),\n",
       " 300: array(1.7579945, dtype=float32),\n",
       " 310: array(1.1979682, dtype=float32),\n",
       " 320: array(0.91924345, dtype=float32),\n",
       " 330: array(1.0521969, dtype=float32),\n",
       " 340: array(1.0846907, dtype=float32),\n",
       " 350: array(0.9170531, dtype=float32),\n",
       " 360: array(0.9280163, dtype=float32),\n",
       " 370: array(0.8610826, dtype=float32),\n",
       " 380: array(1.0246407, dtype=float32),\n",
       " 390: array(0.9885308, dtype=float32),\n",
       " 400: array(0.62343544, dtype=float32),\n",
       " 410: array(0.7646773, dtype=float32),\n",
       " 420: array(0.5847766, dtype=float32),\n",
       " 430: array(1.1062714, dtype=float32),\n",
       " 440: array(0.40469414, dtype=float32),\n",
       " 450: array(0.725094, dtype=float32),\n",
       " 460: array(0.91795, dtype=float32),\n",
       " 470: array(0.7673868, dtype=float32),\n",
       " 480: array(0.7436702, dtype=float32),\n",
       " 490: array(0.53539145, dtype=float32),\n",
       " 500: array(0.67455494, dtype=float32),\n",
       " 510: array(1.0263282, dtype=float32),\n",
       " 520: array(0.9374112, dtype=float32),\n",
       " 530: array(0.82890487, dtype=float32),\n",
       " 540: array(0.58055544, dtype=float32),\n",
       " 550: array(0.86611754, dtype=float32),\n",
       " 560: array(0.6463618, dtype=float32),\n",
       " 570: array(0.8312018, dtype=float32),\n",
       " 580: array(0.63699234, dtype=float32),\n",
       " 590: array(0.8583157, dtype=float32),\n",
       " 600: array(0.33378202, dtype=float32),\n",
       " 610: array(0.7654335, dtype=float32),\n",
       " 620: array(1.2768207, dtype=float32),\n",
       " 630: array(0.6933641, dtype=float32),\n",
       " 640: array(0.7687596, dtype=float32),\n",
       " 650: array(0.40836847, dtype=float32),\n",
       " 660: array(0.9959694, dtype=float32),\n",
       " 670: array(0.6805256, dtype=float32),\n",
       " 680: array(0.70587015, dtype=float32),\n",
       " 690: array(0.67026347, dtype=float32),\n",
       " 700: array(0.83223385, dtype=float32),\n",
       " 710: array(0.8451248, dtype=float32),\n",
       " 720: array(0.5883937, dtype=float32),\n",
       " 730: array(0.66607153, dtype=float32),\n",
       " 740: array(0.79209006, dtype=float32),\n",
       " 750: array(0.6052239, dtype=float32),\n",
       " 760: array(0.6553674, dtype=float32),\n",
       " 770: array(0.8015004, dtype=float32),\n",
       " 780: array(0.97943115, dtype=float32),\n",
       " 790: array(0.5393783, dtype=float32),\n",
       " 800: array(1.2161845, dtype=float32),\n",
       " 810: array(0.77679974, dtype=float32),\n",
       " 820: array(0.7043745, dtype=float32),\n",
       " 830: array(0.7826948, dtype=float32)}"
      ]
     },
     "execution_count": 48,
     "metadata": {},
     "output_type": "execute_result"
    }
   ],
   "source": [
    "from smdebug import modes\n",
    "\n",
    "trial.tensor('CrossEntropyLoss_output_0').values(mode=modes.TRAIN)"
   ]
  },
  {
   "cell_type": "code",
   "execution_count": 49,
   "metadata": {},
   "outputs": [
    {
     "name": "stdout",
     "output_type": "stream",
     "text": [
      "[2024-03-04 22:21:03.076 sagemaker-data-scienc-ml-t3-medium-ccb588b5efaf671be41927273f0c:20 INFO s3_trial.py:42] Loading trial debug-output at path s3://sagemaker-us-east-1-283573335284/pytorch-training-2024-03-04-21-11-55-516/debug-output\n"
     ]
    },
    {
     "data": {
      "image/png": "[encoded data removed]",
      "text/plain": [
       "<Figure size 640x480 with 1 Axes>"
      ]
     },
     "metadata": {},
     "output_type": "display_data"
    },
    {
     "data": {
      "text/plain": [
       "<Figure size 640x480 with 0 Axes>"
      ]
     },
     "metadata": {},
     "output_type": "display_data"
    }
   ],
   "source": [
    "import matplotlib.pyplot as plt\n",
    "from smdebug.trials import create_trial\n",
    "path = estimator.latest_job_debugger_artifacts_path()\n",
    "create_trial(path)\n",
    "\n",
    "plt.ylabel('Train Loss')\n",
    "plt.xlabel('Steps')\n",
    "plt.plot(trial.steps(mode=modes.TRAIN),\n",
    "         list(trial.tensor('CrossEntropyLoss_output_0').values(mode=modes.TRAIN).values()))\n",
    "plt.show()\n",
    "plt.savefig('trainloss.png')"
   ]
  },
  {
   "cell_type": "code",
   "execution_count": 50,
   "metadata": {
    "tags": []
   },
   "outputs": [
    {
     "name": "stdout",
     "output_type": "stream",
     "text": [
      "\n",
      "Parameter validation failed:\n",
      "Invalid bucket name \"{rule_output_path}\": Bucket name must match the regex \"^[a-zA-Z0-9.\\-_]{1,255}$\" or be an ARN matching the regex \"^arn:(aws).*:(s3|s3-object-lambda):[a-z\\-0-9]*:[0-9]{12}:accesspoint[/:][a-zA-Z0-9\\-.]{1,63}$|^arn:(aws).*:s3-outposts:[a-z\\-0-9]+:[0-9]{12}:outpost[/:][a-zA-Z0-9\\-]{1,63}[/:]accesspoint[/:][a-zA-Z0-9\\-]{1,63}$\"\n"
     ]
    }
   ],
   "source": [
    "! aws s3 ls {rule_output_path} --recursive"
   ]
  },
  {
   "cell_type": "code",
   "execution_count": 51,
   "metadata": {
    "tags": []
   },
   "outputs": [
    {
     "name": "stdout",
     "output_type": "stream",
     "text": [
      "\n",
      "usage: aws s3 cp <LocalPath> <S3Uri> or <S3Uri> <LocalPath> or <S3Uri> <S3Uri>\n",
      "Error: Invalid argument type\n"
     ]
    }
   ],
   "source": [
    "! aws s3 cp {rule_output_path} ./ --recursive"
   ]
  },
  {
   "cell_type": "code",
   "execution_count": 56,
   "metadata": {
    "tags": []
   },
   "outputs": [],
   "source": [
    "import os\n",
    "profiler_report_name = [ rule[\"RuleConfigurationName\"]\n",
    "                        for rule in estimator.latest_training_job.rule_job_summary()\n",
    "                        if \"Profiler\" in rule[\"RuleConfigurationName\"]\n",
    "                        ][0]"
   ]
  },
  {
   "cell_type": "code",
   "execution_count": 57,
   "metadata": {},
   "outputs": [
    {
     "data": {
      "text/plain": [
       "'ProfilerReport'"
      ]
     },
     "execution_count": 57,
     "metadata": {},
     "output_type": "execute_result"
    }
   ],
   "source": [
    "profiler_report_name"
   ]
  },
  {
   "cell_type": "code",
   "execution_count": 2,
   "metadata": {
    "tags": []
   },
   "outputs": [],
   "source": [
    "#import IPython\n",
    "#IPython.display.HTML(filename= profiler_report_name + \"/profiler-output/profiler-report.html\")"
   ]
  },
  {
   "cell_type": "markdown",
   "metadata": {},
   "source": [
    "## Model Deploying"
   ]
  },
  {
   "cell_type": "code",
   "execution_count": 59,
   "metadata": {},
   "outputs": [
    {
     "data": {
      "text/plain": [
       "'s3://sagemaker-us-east-1-283573335284/pytorch-training-2024-03-04-21-11-55-516/output/model.tar.gz'"
      ]
     },
     "execution_count": 59,
     "metadata": {},
     "output_type": "execute_result"
    }
   ],
   "source": [
    "model_location = estimator.model_data\n",
    "model_location"
   ]
  },
  {
   "cell_type": "code",
   "execution_count": 60,
   "metadata": {
    "tags": []
   },
   "outputs": [
    {
     "name": "stdout",
     "output_type": "stream",
     "text": [
      "sagemaker.config INFO - Not applying SDK defaults from location: /etc/xdg/sagemaker/config.yaml\n",
      "sagemaker.config INFO - Not applying SDK defaults from location: /root/.config/sagemaker/config.yaml\n",
      "sagemaker.config INFO - Not applying SDK defaults from location: /etc/xdg/sagemaker/config.yaml\n",
      "sagemaker.config INFO - Not applying SDK defaults from location: /root/.config/sagemaker/config.yaml\n"
     ]
    },
    {
     "name": "stderr",
     "output_type": "stream",
     "text": [
      "INFO:sagemaker:Repacking model artifact (s3://sagemaker-us-east-1-283573335284/pytorch-training-2024-03-04-21-11-55-516/output/model.tar.gz), script artifact (None), and dependencies ([]) into single tar.gz file located at s3://sagemaker-us-east-1-283573335284/pytorch-inference-2024-03-04-22-23-24-129/model.tar.gz. This may take some time depending on model size...\n",
      "INFO:sagemaker:Creating model with name: pytorch-inference-2024-03-04-22-23-32-960\n",
      "INFO:sagemaker:Creating endpoint-config with name pytorch-inference-2024-03-04-22-23-33-653\n",
      "INFO:sagemaker:Creating endpoint with name pytorch-inference-2024-03-04-22-23-33-653\n"
     ]
    },
    {
     "name": "stdout",
     "output_type": "stream",
     "text": [
      "-----!"
     ]
    }
   ],
   "source": [
    "jpeg_serializer = sagemaker.serializers.IdentitySerializer(\"image/jpeg\")\n",
    "json_deserializer = sagemaker.deserializers.JSONDeserializer()\n",
    "\n",
    "class ImgPredictor(Predictor):\n",
    "    def __init__( self, endpoint_name, sagemaker_session):\n",
    "        super(ImgPredictor, self).__init__(\n",
    "            endpoint_name,\n",
    "            sagemaker_session = sagemaker_session,\n",
    "            serializer = jpeg_serializer,\n",
    "            deserializer = json_deserializer\n",
    "        )\n",
    "        \n",
    "pytorch_model = PyTorchModel(model_data = model_location,\n",
    "                             role = role,\n",
    "                             entry_point= \"deploy_endpoint.py\",\n",
    "                             py_version = \"py36\",\n",
    "                             framework_version = \"1.6\",\n",
    "                             predictor_cls = ImgPredictor\n",
    "                            )\n",
    "\n",
    "predictor = pytorch_model.deploy(initial_instance_count = 1, instance_type = \"ml.m5.2xlarge\")"
   ]
  },
  {
   "cell_type": "code",
   "execution_count": 61,
   "metadata": {},
   "outputs": [
    {
     "name": "stdout",
     "output_type": "stream",
     "text": [
      "Expected Breed Class is 16\n",
      "Predicted Breed Class is [16]\n"
     ]
    }
   ],
   "source": [
    "from PIL import Image\n",
    "import io\n",
    "import os\n",
    "import numpy as np\n",
    "\n",
    "test_image = \"./dogImages/test/016.Beagle/Beagle_01130.jpg\"\n",
    "\n",
    "with open(test_image , \"rb\") as f:\n",
    "    payload = f.read()\n",
    "    print(\"Expected Breed Class is 16\")\n",
    "    response = predictor.predict(payload, initial_args={\"ContentType\": \"image/jpeg\"}) \n",
    "    predict = np.argmax(response, 1) + 1\n",
    "    print(f\"Predicted Breed Class is {predict}\")"
   ]
  },
  {
   "cell_type": "code",
   "execution_count": 62,
   "metadata": {},
   "outputs": [
    {
     "name": "stderr",
     "output_type": "stream",
     "text": [
      "INFO:sagemaker:Deleting endpoint configuration with name: pytorch-inference-2024-03-04-22-23-33-653\n",
      "INFO:sagemaker:Deleting endpoint with name: pytorch-inference-2024-03-04-22-23-33-653\n"
     ]
    }
   ],
   "source": [
    "predictor.delete_endpoint()"
   ]
  }
 ],
 "metadata": {
  "availableInstances": [
   {
    "_defaultOrder": 0,
    "_isFastLaunch": true,
    "category": "General purpose",
    "gpuNum": 0,
    "hideHardwareSpecs": false,
    "memoryGiB": 4,
    "name": "ml.t3.medium",
    "vcpuNum": 2
   },
   {
    "_defaultOrder": 1,
    "_isFastLaunch": false,
    "category": "General purpose",
    "gpuNum": 0,
    "hideHardwareSpecs": false,
    "memoryGiB": 8,
    "name": "ml.t3.large",
    "vcpuNum": 2
   },
   {
    "_defaultOrder": 2,
    "_isFastLaunch": false,
    "category": "General purpose",
    "gpuNum": 0,
    "hideHardwareSpecs": false,
    "memoryGiB": 16,
    "name": "ml.t3.xlarge",
    "vcpuNum": 4
   },
   {
    "_defaultOrder": 3,
    "_isFastLaunch": false,
    "category": "General purpose",
    "gpuNum": 0,
    "hideHardwareSpecs": false,
    "memoryGiB": 32,
    "name": "ml.t3.2xlarge",
    "vcpuNum": 8
   },
   {
    "_defaultOrder": 4,
    "_isFastLaunch": true,
    "category": "General purpose",
    "gpuNum": 0,
    "hideHardwareSpecs": false,
    "memoryGiB": 8,
    "name": "ml.m5.large",
    "vcpuNum": 2
   },
   {
    "_defaultOrder": 5,
    "_isFastLaunch": false,
    "category": "General purpose",
    "gpuNum": 0,
    "hideHardwareSpecs": false,
    "memoryGiB": 16,
    "name": "ml.m5.xlarge",
    "vcpuNum": 4
   },
   {
    "_defaultOrder": 6,
    "_isFastLaunch": false,
    "category": "General purpose",
    "gpuNum": 0,
    "hideHardwareSpecs": false,
    "memoryGiB": 32,
    "name": "ml.m5.2xlarge",
    "vcpuNum": 8
   },
   {
    "_defaultOrder": 7,
    "_isFastLaunch": false,
    "category": "General purpose",
    "gpuNum": 0,
    "hideHardwareSpecs": false,
    "memoryGiB": 64,
    "name": "ml.m5.4xlarge",
    "vcpuNum": 16
   },
   {
    "_defaultOrder": 8,
    "_isFastLaunch": false,
    "category": "General purpose",
    "gpuNum": 0,
    "hideHardwareSpecs": false,
    "memoryGiB": 128,
    "name": "ml.m5.8xlarge",
    "vcpuNum": 32
   },
   {
    "_defaultOrder": 9,
    "_isFastLaunch": false,
    "category": "General purpose",
    "gpuNum": 0,
    "hideHardwareSpecs": false,
    "memoryGiB": 192,
    "name": "ml.m5.12xlarge",
    "vcpuNum": 48
   },
   {
    "_defaultOrder": 10,
    "_isFastLaunch": false,
    "category": "General purpose",
    "gpuNum": 0,
    "hideHardwareSpecs": false,
    "memoryGiB": 256,
    "name": "ml.m5.16xlarge",
    "vcpuNum": 64
   },
   {
    "_defaultOrder": 11,
    "_isFastLaunch": false,
    "category": "General purpose",
    "gpuNum": 0,
    "hideHardwareSpecs": false,
    "memoryGiB": 384,
    "name": "ml.m5.24xlarge",
    "vcpuNum": 96
   },
   {
    "_defaultOrder": 12,
    "_isFastLaunch": false,
    "category": "General purpose",
    "gpuNum": 0,
    "hideHardwareSpecs": false,
    "memoryGiB": 8,
    "name": "ml.m5d.large",
    "vcpuNum": 2
   },
   {
    "_defaultOrder": 13,
    "_isFastLaunch": false,
    "category": "General purpose",
    "gpuNum": 0,
    "hideHardwareSpecs": false,
    "memoryGiB": 16,
    "name": "ml.m5d.xlarge",
    "vcpuNum": 4
   },
   {
    "_defaultOrder": 14,
    "_isFastLaunch": false,
    "category": "General purpose",
    "gpuNum": 0,
    "hideHardwareSpecs": false,
    "memoryGiB": 32,
    "name": "ml.m5d.2xlarge",
    "vcpuNum": 8
   },
   {
    "_defaultOrder": 15,
    "_isFastLaunch": false,
    "category": "General purpose",
    "gpuNum": 0,
    "hideHardwareSpecs": false,
    "memoryGiB": 64,
    "name": "ml.m5d.4xlarge",
    "vcpuNum": 16
   },
   {
    "_defaultOrder": 16,
    "_isFastLaunch": false,
    "category": "General purpose",
    "gpuNum": 0,
    "hideHardwareSpecs": false,
    "memoryGiB": 128,
    "name": "ml.m5d.8xlarge",
    "vcpuNum": 32
   },
   {
    "_defaultOrder": 17,
    "_isFastLaunch": false,
    "category": "General purpose",
    "gpuNum": 0,
    "hideHardwareSpecs": false,
    "memoryGiB": 192,
    "name": "ml.m5d.12xlarge",
    "vcpuNum": 48
   },
   {
    "_defaultOrder": 18,
    "_isFastLaunch": false,
    "category": "General purpose",
    "gpuNum": 0,
    "hideHardwareSpecs": false,
    "memoryGiB": 256,
    "name": "ml.m5d.16xlarge",
    "vcpuNum": 64
   },
   {
    "_defaultOrder": 19,
    "_isFastLaunch": false,
    "category": "General purpose",
    "gpuNum": 0,
    "hideHardwareSpecs": false,
    "memoryGiB": 384,
    "name": "ml.m5d.24xlarge",
    "vcpuNum": 96
   },
   {
    "_defaultOrder": 20,
    "_isFastLaunch": false,
    "category": "General purpose",
    "gpuNum": 0,
    "hideHardwareSpecs": true,
    "memoryGiB": 0,
    "name": "ml.geospatial.interactive",
    "supportedImageNames": [
     "sagemaker-geospatial-v1-0"
    ],
    "vcpuNum": 0
   },
   {
    "_defaultOrder": 21,
    "_isFastLaunch": true,
    "category": "Compute optimized",
    "gpuNum": 0,
    "hideHardwareSpecs": false,
    "memoryGiB": 4,
    "name": "ml.c5.large",
    "vcpuNum": 2
   },
   {
    "_defaultOrder": 22,
    "_isFastLaunch": false,
    "category": "Compute optimized",
    "gpuNum": 0,
    "hideHardwareSpecs": false,
    "memoryGiB": 8,
    "name": "ml.c5.xlarge",
    "vcpuNum": 4
   },
   {
    "_defaultOrder": 23,
    "_isFastLaunch": false,
    "category": "Compute optimized",
    "gpuNum": 0,
    "hideHardwareSpecs": false,
    "memoryGiB": 16,
    "name": "ml.c5.2xlarge",
    "vcpuNum": 8
   },
   {
    "_defaultOrder": 24,
    "_isFastLaunch": false,
    "category": "Compute optimized",
    "gpuNum": 0,
    "hideHardwareSpecs": false,
    "memoryGiB": 32,
    "name": "ml.c5.4xlarge",
    "vcpuNum": 16
   },
   {
    "_defaultOrder": 25,
    "_isFastLaunch": false,
    "category": "Compute optimized",
    "gpuNum": 0,
    "hideHardwareSpecs": false,
    "memoryGiB": 72,
    "name": "ml.c5.9xlarge",
    "vcpuNum": 36
   },
   {
    "_defaultOrder": 26,
    "_isFastLaunch": false,
    "category": "Compute optimized",
    "gpuNum": 0,
    "hideHardwareSpecs": false,
    "memoryGiB": 96,
    "name": "ml.c5.12xlarge",
    "vcpuNum": 48
   },
   {
    "_defaultOrder": 27,
    "_isFastLaunch": false,
    "category": "Compute optimized",
    "gpuNum": 0,
    "hideHardwareSpecs": false,
    "memoryGiB": 144,
    "name": "ml.c5.18xlarge",
    "vcpuNum": 72
   },
   {
    "_defaultOrder": 28,
    "_isFastLaunch": false,
    "category": "Compute optimized",
    "gpuNum": 0,
    "hideHardwareSpecs": false,
    "memoryGiB": 192,
    "name": "ml.c5.24xlarge",
    "vcpuNum": 96
   },
   {
    "_defaultOrder": 29,
    "_isFastLaunch": true,
    "category": "Accelerated computing",
    "gpuNum": 1,
    "hideHardwareSpecs": false,
    "memoryGiB": 16,
    "name": "ml.g4dn.xlarge",
    "vcpuNum": 4
   },
   {
    "_defaultOrder": 30,
    "_isFastLaunch": false,
    "category": "Accelerated computing",
    "gpuNum": 1,
    "hideHardwareSpecs": false,
    "memoryGiB": 32,
    "name": "ml.g4dn.2xlarge",
    "vcpuNum": 8
   },
   {
    "_defaultOrder": 31,
    "_isFastLaunch": false,
    "category": "Accelerated computing",
    "gpuNum": 1,
    "hideHardwareSpecs": false,
    "memoryGiB": 64,
    "name": "ml.g4dn.4xlarge",
    "vcpuNum": 16
   },
   {
    "_defaultOrder": 32,
    "_isFastLaunch": false,
    "category": "Accelerated computing",
    "gpuNum": 1,
    "hideHardwareSpecs": false,
    "memoryGiB": 128,
    "name": "ml.g4dn.8xlarge",
    "vcpuNum": 32
   },
   {
    "_defaultOrder": 33,
    "_isFastLaunch": false,
    "category": "Accelerated computing",
    "gpuNum": 4,
    "hideHardwareSpecs": false,
    "memoryGiB": 192,
    "name": "ml.g4dn.12xlarge",
    "vcpuNum": 48
   },
   {
    "_defaultOrder": 34,
    "_isFastLaunch": false,
    "category": "Accelerated computing",
    "gpuNum": 1,
    "hideHardwareSpecs": false,
    "memoryGiB": 256,
    "name": "ml.g4dn.16xlarge",
    "vcpuNum": 64
   },
   {
    "_defaultOrder": 35,
    "_isFastLaunch": false,
    "category": "Accelerated computing",
    "gpuNum": 1,
    "hideHardwareSpecs": false,
    "memoryGiB": 61,
    "name": "ml.p3.2xlarge",
    "vcpuNum": 8
   },
   {
    "_defaultOrder": 36,
    "_isFastLaunch": false,
    "category": "Accelerated computing",
    "gpuNum": 4,
    "hideHardwareSpecs": false,
    "memoryGiB": 244,
    "name": "ml.p3.8xlarge",
    "vcpuNum": 32
   },
   {
    "_defaultOrder": 37,
    "_isFastLaunch": false,
    "category": "Accelerated computing",
    "gpuNum": 8,
    "hideHardwareSpecs": false,
    "memoryGiB": 488,
    "name": "ml.p3.16xlarge",
    "vcpuNum": 64
   },
   {
    "_defaultOrder": 38,
    "_isFastLaunch": false,
    "category": "Accelerated computing",
    "gpuNum": 8,
    "hideHardwareSpecs": false,
    "memoryGiB": 768,
    "name": "ml.p3dn.24xlarge",
    "vcpuNum": 96
   },
   {
    "_defaultOrder": 39,
    "_isFastLaunch": false,
    "category": "Memory Optimized",
    "gpuNum": 0,
    "hideHardwareSpecs": false,
    "memoryGiB": 16,
    "name": "ml.r5.large",
    "vcpuNum": 2
   },
   {
    "_defaultOrder": 40,
    "_isFastLaunch": false,
    "category": "Memory Optimized",
    "gpuNum": 0,
    "hideHardwareSpecs": false,
    "memoryGiB": 32,
    "name": "ml.r5.xlarge",
    "vcpuNum": 4
   },
   {
    "_defaultOrder": 41,
    "_isFastLaunch": false,
    "category": "Memory Optimized",
    "gpuNum": 0,
    "hideHardwareSpecs": false,
    "memoryGiB": 64,
    "name": "ml.r5.2xlarge",
    "vcpuNum": 8
   },
   {
    "_defaultOrder": 42,
    "_isFastLaunch": false,
    "category": "Memory Optimized",
    "gpuNum": 0,
    "hideHardwareSpecs": false,
    "memoryGiB": 128,
    "name": "ml.r5.4xlarge",
    "vcpuNum": 16
   },
   {
    "_defaultOrder": 43,
    "_isFastLaunch": false,
    "category": "Memory Optimized",
    "gpuNum": 0,
    "hideHardwareSpecs": false,
    "memoryGiB": 256,
    "name": "ml.r5.8xlarge",
    "vcpuNum": 32
   },
   {
    "_defaultOrder": 44,
    "_isFastLaunch": false,
    "category": "Memory Optimized",
    "gpuNum": 0,
    "hideHardwareSpecs": false,
    "memoryGiB": 384,
    "name": "ml.r5.12xlarge",
    "vcpuNum": 48
   },
   {
    "_defaultOrder": 45,
    "_isFastLaunch": false,
    "category": "Memory Optimized",
    "gpuNum": 0,
    "hideHardwareSpecs": false,
    "memoryGiB": 512,
    "name": "ml.r5.16xlarge",
    "vcpuNum": 64
   },
   {
    "_defaultOrder": 46,
    "_isFastLaunch": false,
    "category": "Memory Optimized",
    "gpuNum": 0,
    "hideHardwareSpecs": false,
    "memoryGiB": 768,
    "name": "ml.r5.24xlarge",
    "vcpuNum": 96
   },
   {
    "_defaultOrder": 47,
    "_isFastLaunch": false,
    "category": "Accelerated computing",
    "gpuNum": 1,
    "hideHardwareSpecs": false,
    "memoryGiB": 16,
    "name": "ml.g5.xlarge",
    "vcpuNum": 4
   },
   {
    "_defaultOrder": 48,
    "_isFastLaunch": false,
    "category": "Accelerated computing",
    "gpuNum": 1,
    "hideHardwareSpecs": false,
    "memoryGiB": 32,
    "name": "ml.g5.2xlarge",
    "vcpuNum": 8
   },
   {
    "_defaultOrder": 49,
    "_isFastLaunch": false,
    "category": "Accelerated computing",
    "gpuNum": 1,
    "hideHardwareSpecs": false,
    "memoryGiB": 64,
    "name": "ml.g5.4xlarge",
    "vcpuNum": 16
   },
   {
    "_defaultOrder": 50,
    "_isFastLaunch": false,
    "category": "Accelerated computing",
    "gpuNum": 1,
    "hideHardwareSpecs": false,
    "memoryGiB": 128,
    "name": "ml.g5.8xlarge",
    "vcpuNum": 32
   },
   {
    "_defaultOrder": 51,
    "_isFastLaunch": false,
    "category": "Accelerated computing",
    "gpuNum": 1,
    "hideHardwareSpecs": false,
    "memoryGiB": 256,
    "name": "ml.g5.16xlarge",
    "vcpuNum": 64
   },
   {
    "_defaultOrder": 52,
    "_isFastLaunch": false,
    "category": "Accelerated computing",
    "gpuNum": 4,
    "hideHardwareSpecs": false,
    "memoryGiB": 192,
    "name": "ml.g5.12xlarge",
    "vcpuNum": 48
   },
   {
    "_defaultOrder": 53,
    "_isFastLaunch": false,
    "category": "Accelerated computing",
    "gpuNum": 4,
    "hideHardwareSpecs": false,
    "memoryGiB": 384,
    "name": "ml.g5.24xlarge",
    "vcpuNum": 96
   },
   {
    "_defaultOrder": 54,
    "_isFastLaunch": false,
    "category": "Accelerated computing",
    "gpuNum": 8,
    "hideHardwareSpecs": false,
    "memoryGiB": 768,
    "name": "ml.g5.48xlarge",
    "vcpuNum": 192
   },
   {
    "_defaultOrder": 55,
    "_isFastLaunch": false,
    "category": "Accelerated computing",
    "gpuNum": 8,
    "hideHardwareSpecs": false,
    "memoryGiB": 1152,
    "name": "ml.p4d.24xlarge",
    "vcpuNum": 96
   },
   {
    "_defaultOrder": 56,
    "_isFastLaunch": false,
    "category": "Accelerated computing",
    "gpuNum": 8,
    "hideHardwareSpecs": false,
    "memoryGiB": 1152,
    "name": "ml.p4de.24xlarge",
    "vcpuNum": 96
   },
   {
    "_defaultOrder": 57,
    "_isFastLaunch": false,
    "category": "Accelerated computing",
    "gpuNum": 0,
    "hideHardwareSpecs": false,
    "memoryGiB": 32,
    "name": "ml.trn1.2xlarge",
    "vcpuNum": 8
   },
   {
    "_defaultOrder": 58,
    "_isFastLaunch": false,
    "category": "Accelerated computing",
    "gpuNum": 0,
    "hideHardwareSpecs": false,
    "memoryGiB": 512,
    "name": "ml.trn1.32xlarge",
    "vcpuNum": 128
   },
   {
    "_defaultOrder": 59,
    "_isFastLaunch": false,
    "category": "Accelerated computing",
    "gpuNum": 0,
    "hideHardwareSpecs": false,
    "memoryGiB": 512,
    "name": "ml.trn1n.32xlarge",
    "vcpuNum": 128
   }
  ],
  "instance_type": "ml.t3.medium",
  "kernelspec": {
   "display_name": "Python 3 (Data Science 3.0)",
   "language": "python",
   "name": "python3__SAGEMAKER_INTERNAL__arn:aws:sagemaker:us-east-1:081325390199:image/sagemaker-data-science-310-v1"
  },
  "language_info": {
   "codemirror_mode": {
    "name": "ipython",
    "version": 3
   },
   "file_extension": ".py",
   "mimetype": "text/x-python",
   "name": "python",
   "nbconvert_exporter": "python",
   "pygments_lexer": "ipython3",
   "version": "3.10.6"
  }
 },
 "nbformat": 4,
 "nbformat_minor": 4
}
